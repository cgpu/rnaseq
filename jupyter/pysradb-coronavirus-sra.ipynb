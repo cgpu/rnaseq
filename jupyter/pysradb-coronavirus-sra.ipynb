{
 "cells": [
  {
   "cell_type": "markdown",
   "metadata": {},
   "source": [
    "# Python book to first search to create a list of putative SRP projects then to get expanded metadata\n",
    "\n",
    "Using the pysradb package https://pypi.org/project/pysradb/ https://bio.tools/pysradb, searched the sequence read archive of the US NIH https://www.ncbi.nlm.nih.gov/sra to determine whether or not the samples contained within the project were relevant to our coronovirus-nf experiment.\n",
    "\n",
    "The experiment as outlined is searching to confirm/deny the initial finding that there is evidence that the virus disrupts the cell-cell junctions and this could be the means by which access to the cell is obtained, injury caused and a myriad of susceptibility for individuals may be laid bare.\n"
   ]
  },
  {
   "cell_type": "markdown",
   "metadata": {},
   "source": [
    "## Installation\n",
    "\n",
    "Following directions for quick start found here https://saket-choudhary.me/pysradb/ under here https://saket-choudhary.me/pysradb/quickstart.html, installed and verified the version.\n",
    "\n",
    "Note that the package though capable of being installed via `conda install` results in an older version installation rather than through `pip install`\n"
   ]
  },
  {
   "cell_type": "code",
   "execution_count": 126,
   "metadata": {},
   "outputs": [
    {
     "name": "stdout",
     "output_type": "stream",
     "text": [
      "Requirement already up-to-date: pysradb in /opt/conda/lib/python3.7/site-packages (0.10.4)\n",
      "Requirement already satisfied, skipping upgrade: tqdm==4.43.0 in /opt/conda/lib/python3.7/site-packages (from pysradb) (4.43.0)\n",
      "Requirement already satisfied, skipping upgrade: pandas==1.0.1 in /opt/conda/lib/python3.7/site-packages (from pysradb) (1.0.1)\n",
      "Requirement already satisfied, skipping upgrade: xmltodict==0.12.0 in /opt/conda/lib/python3.7/site-packages (from pysradb) (0.12.0)\n",
      "Requirement already satisfied, skipping upgrade: requests==2.23.0 in /opt/conda/lib/python3.7/site-packages (from pysradb) (2.23.0)\n",
      "Requirement already satisfied, skipping upgrade: python-dateutil>=2.6.1 in /opt/conda/lib/python3.7/site-packages (from pandas==1.0.1->pysradb) (2.8.1)\n",
      "Requirement already satisfied, skipping upgrade: numpy>=1.13.3 in /opt/conda/lib/python3.7/site-packages (from pandas==1.0.1->pysradb) (1.18.1)\n",
      "Requirement already satisfied, skipping upgrade: pytz>=2017.2 in /opt/conda/lib/python3.7/site-packages (from pandas==1.0.1->pysradb) (2019.3)\n",
      "Requirement already satisfied, skipping upgrade: chardet<4,>=3.0.2 in /opt/conda/lib/python3.7/site-packages (from requests==2.23.0->pysradb) (3.0.4)\n",
      "Requirement already satisfied, skipping upgrade: certifi>=2017.4.17 in /opt/conda/lib/python3.7/site-packages (from requests==2.23.0->pysradb) (2020.4.5.1)\n",
      "Requirement already satisfied, skipping upgrade: urllib3!=1.25.0,!=1.25.1,<1.26,>=1.21.1 in /opt/conda/lib/python3.7/site-packages (from requests==2.23.0->pysradb) (1.25.7)\n",
      "Requirement already satisfied, skipping upgrade: idna<3,>=2.5 in /opt/conda/lib/python3.7/site-packages (from requests==2.23.0->pysradb) (2.8)\n",
      "Requirement already satisfied, skipping upgrade: six>=1.5 in /opt/conda/lib/python3.7/site-packages (from python-dateutil>=2.6.1->pandas==1.0.1->pysradb) (1.14.0)\n",
      "Note: you may need to restart the kernel to use updated packages.\n"
     ]
    }
   ],
   "source": [
    "pip install -U pysradb"
   ]
  },
  {
   "cell_type": "code",
   "execution_count": 127,
   "metadata": {},
   "outputs": [
    {
     "name": "stdout",
     "output_type": "stream",
     "text": [
      "/opt/conda/lib/python3.7/site-packages/tqdm/std.py:658: FutureWarning: The Panel class is removed from pandas. Accessing it from the top-level namespace will also be removed in the next version\n",
      "  from pandas import Panel\n",
      "/opt/conda/lib/python3.7/site-packages/tqdm/std.py:658: FutureWarning: The Panel class is removed from pandas. Accessing it from the top-level namespace will also be removed in the next version\n",
      "  from pandas import Panel\n",
      "pysradb 0.10.4\n"
     ]
    }
   ],
   "source": [
    "!pysradb  --version\n"
   ]
  },
  {
   "cell_type": "code",
   "execution_count": 9,
   "metadata": {},
   "outputs": [
    {
     "name": "stdout",
     "output_type": "stream",
     "text": [
      "/opt/conda/lib/python3.7/site-packages/tqdm/std.py:658: FutureWarning: The Panel class is removed from pandas. Accessing it from the top-level namespace will also be removed in the next version\n",
      "  from pandas import Panel\n",
      "/opt/conda/lib/python3.7/site-packages/tqdm/std.py:658: FutureWarning: The Panel class is removed from pandas. Accessing it from the top-level namespace will also be removed in the next version\n",
      "  from pandas import Panel\n"
     ]
    }
   ],
   "source": [
    "# search for calu-3 cell lines that are rna-seq -- they all may not be infection\n",
    "!pysradb search '\"calu-3\" \"rna-seq\"' > calu-3_rna-seq.txt"
   ]
  },
  {
   "cell_type": "code",
   "execution_count": 10,
   "metadata": {},
   "outputs": [],
   "source": [
    "!awk -F \" \" '{print $1}' calu-3_rna-seq.txt  > calu-3_rna-seq_srp.txt"
   ]
  },
  {
   "cell_type": "code",
   "execution_count": 11,
   "metadata": {},
   "outputs": [
    {
     "name": "stdout",
     "output_type": "stream",
     "text": [
      "study_accession\n",
      "SRP253951\n",
      "SRP253951\n",
      "SRP253951\n",
      "SRP253951\n",
      "SRP253951\n",
      "SRP253951\n",
      "SRP170549\n",
      "SRP170549\n",
      "SRP170549\n"
     ]
    }
   ],
   "source": [
    "!head calu-3_rna-seq_srp.txt"
   ]
  },
  {
   "cell_type": "code",
   "execution_count": 12,
   "metadata": {},
   "outputs": [],
   "source": [
    "# make the list non-redudnant\n",
    "!sort -u calu-3_rna-seq_srp.txt > s.calu-3_rna-seq_srp.txt"
   ]
  },
  {
   "cell_type": "code",
   "execution_count": 14,
   "metadata": {},
   "outputs": [
    {
     "name": "stdout",
     "output_type": "stream",
     "text": [
      "5 s.calu-3_rna-seq_srp.txt\n"
     ]
    }
   ],
   "source": [
    "!wc -l s.calu-3_rna-seq_srp.txt"
   ]
  },
  {
   "cell_type": "code",
   "execution_count": 15,
   "metadata": {},
   "outputs": [
    {
     "name": "stdout",
     "output_type": "stream",
     "text": [
      "SRP049988\n",
      "SRP056612\n",
      "SRP170549\n",
      "SRP253951\n",
      "study_accession\n"
     ]
    }
   ],
   "source": [
    "!more s.calu-3_rna-seq_srp.txt"
   ]
  },
  {
   "cell_type": "code",
   "execution_count": 7,
   "metadata": {},
   "outputs": [
    {
     "name": "stdout",
     "output_type": "stream",
     "text": [
      "/opt/conda/lib/python3.7/site-packages/tqdm/std.py:658: FutureWarning: The Panel class is removed from pandas. Accessing it from the top-level namespace will also be removed in the next version\n",
      "  from pandas import Panel\n",
      "/opt/conda/lib/python3.7/site-packages/tqdm/std.py:658: FutureWarning: The Panel class is removed from pandas. Accessing it from the top-level namespace will also be removed in the next version\n",
      "  from pandas import Panel\n"
     ]
    }
   ],
   "source": [
    "# search more specifically for sars infection\n",
    "!pysradb search '\"sars\" \"rna-seq\" \"homo sapiens\"' > sars_rna-seq_homo-sapiens.txt"
   ]
  },
  {
   "cell_type": "code",
   "execution_count": 8,
   "metadata": {},
   "outputs": [],
   "source": [
    "!awk -F \" \" '{print $1}' sars_rna-seq_homo-sapiens.txt > sars_rna-seq_homo-sapiens_srp.txt"
   ]
  },
  {
   "cell_type": "code",
   "execution_count": 9,
   "metadata": {},
   "outputs": [],
   "source": [
    "# make the list unique\n",
    "!sort -u sars_rna-seq_homo-sapiens_srp.txt > s.sars_rna-seq_homo-sapiens_srp.txt"
   ]
  },
  {
   "cell_type": "code",
   "execution_count": 10,
   "metadata": {},
   "outputs": [
    {
     "name": "stdout",
     "output_type": "stream",
     "text": [
      "17 s.sars_rna-seq_homo-sapiens_srp.txt\n"
     ]
    }
   ],
   "source": [
    "!wc -l s.sars_rna-seq_homo-sapiens_srp.txt"
   ]
  },
  {
   "cell_type": "code",
   "execution_count": 11,
   "metadata": {},
   "outputs": [
    {
     "name": "stdout",
     "output_type": "stream",
     "text": [
      "/opt/conda/lib/python3.7/site-packages/tqdm/std.py:658: FutureWarning: The Panel class is removed from pandas. Accessing it from the top-level namespace will also be removed in the next version\n",
      "  from pandas import Panel\n",
      "/opt/conda/lib/python3.7/site-packages/tqdm/std.py:658: FutureWarning: The Panel class is removed from pandas. Accessing it from the top-level namespace will also be removed in the next version\n",
      "  from pandas import Panel\n"
     ]
    }
   ],
   "source": [
    "# look for mers \n",
    "!pysradb search '\"mers\" \"rna-seq\" \"homo sapiens\"' > mers_rna-seq_homo-sapiens.txt"
   ]
  },
  {
   "cell_type": "code",
   "execution_count": 14,
   "metadata": {},
   "outputs": [],
   "source": [
    "!awk -F \" \" '{print $1}' mers_rna-seq_homo-sapiens.txt > mers_rna-seq_homo-sapiens_srp.txt"
   ]
  },
  {
   "cell_type": "code",
   "execution_count": 15,
   "metadata": {},
   "outputs": [],
   "source": [
    "# make the list unique\n",
    "!sort -u mers_rna-seq_homo-sapiens_srp.txt > s.mers_rna-seq_homo-sapiens_srp.txt"
   ]
  },
  {
   "cell_type": "code",
   "execution_count": 16,
   "metadata": {},
   "outputs": [
    {
     "name": "stdout",
     "output_type": "stream",
     "text": [
      "7 s.mers_rna-seq_homo-sapiens_srp.txt\n"
     ]
    }
   ],
   "source": [
    "!wc -l s.mers_rna-seq_homo-sapiens_srp.txt"
   ]
  },
  {
   "cell_type": "code",
   "execution_count": 17,
   "metadata": {},
   "outputs": [
    {
     "name": "stdout",
     "output_type": "stream",
     "text": [
      "/opt/conda/lib/python3.7/site-packages/tqdm/std.py:658: FutureWarning: The Panel class is removed from pandas. Accessing it from the top-level namespace will also be removed in the next version\n",
      "  from pandas import Panel\n",
      "/opt/conda/lib/python3.7/site-packages/tqdm/std.py:658: FutureWarning: The Panel class is removed from pandas. Accessing it from the top-level namespace will also be removed in the next version\n",
      "  from pandas import Panel\n"
     ]
    }
   ],
   "source": [
    "# look for h1n1\n",
    "!pysradb search '\"h1n1\" \"rna-seq\" \"homo sapiens\"' > h1n1_rna-seq_homo-sapiens.txt"
   ]
  },
  {
   "cell_type": "code",
   "execution_count": 19,
   "metadata": {},
   "outputs": [],
   "source": [
    "!awk -F \" \" '{print $1}' h1n1_rna-seq_homo-sapiens.txt > h1n1_rna-seq_homo-sapiens_srp.txt"
   ]
  },
  {
   "cell_type": "code",
   "execution_count": 20,
   "metadata": {},
   "outputs": [],
   "source": [
    "!sort -u h1n1_rna-seq_homo-sapiens_srp.txt > s.h1n1_rna-seq_homo-sapiens_srp.txt"
   ]
  },
  {
   "cell_type": "code",
   "execution_count": 21,
   "metadata": {},
   "outputs": [
    {
     "name": "stdout",
     "output_type": "stream",
     "text": [
      "23 s.h1n1_rna-seq_homo-sapiens.txt\n"
     ]
    }
   ],
   "source": [
    "# make the list unique\n",
    "!wc -l s.h1n1_rna-seq_homo-sapiens.txt"
   ]
  },
  {
   "cell_type": "code",
   "execution_count": 22,
   "metadata": {},
   "outputs": [
    {
     "name": "stdout",
     "output_type": "stream",
     "text": [
      "s.calu-3_rna-seq_srp.txt\t     s.mers_rna-seq_homo-sapiens.txt\n",
      "s.h1n1_rna-seq_homo-sapiens.txt      s.sars_rna-seq_homo-sapiens_srp.txt\n",
      "s.mers_rna-seq_homo-sapiens_srp.txt\n"
     ]
    }
   ],
   "source": [
    "!ls s.*txt"
   ]
  },
  {
   "cell_type": "code",
   "execution_count": 24,
   "metadata": {},
   "outputs": [],
   "source": [
    "!mv s.h1n1_rna-seq_homo-sapiens.txt s.h1n1_rna-seq_homo-sapiens_srp.txt"
   ]
  },
  {
   "cell_type": "code",
   "execution_count": 27,
   "metadata": {},
   "outputs": [
    {
     "name": "stdout",
     "output_type": "stream",
     "text": [
      "-rw-r--r-- 1 jovyan users  56 Apr 16 18:21 s.calu-3_rna-seq_srp.txt\n",
      "-rw-r--r-- 1 jovyan users 236 Apr 16 18:44 s.h1n1_rna-seq_homo-sapiens_srp.txt\n",
      "-rw-r--r-- 1 jovyan users  76 Apr 16 18:40 s.mers_rna-seq_homo-sapiens_srp.txt\n",
      "-rw-r--r-- 1 jovyan users 176 Apr 16 18:36 s.sars_rna-seq_homo-sapiens_srp.txt\n"
     ]
    }
   ],
   "source": [
    "!ls -l s.*txt"
   ]
  },
  {
   "cell_type": "code",
   "execution_count": 28,
   "metadata": {},
   "outputs": [],
   "source": [
    "# make a single list\n",
    "!cat s.*txt > calu-3_h1n1_mers_sars_rna-seq_srp.txt"
   ]
  },
  {
   "cell_type": "code",
   "execution_count": 31,
   "metadata": {},
   "outputs": [],
   "source": [
    "# clean it up.\n",
    "!grep -v 'study_accession' calu-3_h1n1_mers_sars_rna-seq_srp.txt > srp.txt"
   ]
  },
  {
   "cell_type": "code",
   "execution_count": 32,
   "metadata": {},
   "outputs": [
    {
     "name": "stdout",
     "output_type": "stream",
     "text": [
      "48 srp.txt\n"
     ]
    }
   ],
   "source": [
    " !wc -l srp.txt"
   ]
  },
  {
   "cell_type": "code",
   "execution_count": 35,
   "metadata": {},
   "outputs": [],
   "source": [
    "# final list\n",
    "!sort -u srp.txt > s.srp.txt"
   ]
  },
  {
   "cell_type": "code",
   "execution_count": 37,
   "metadata": {},
   "outputs": [
    {
     "name": "stdout",
     "output_type": "stream",
     "text": [
      "43 s.srp.txt\n"
     ]
    }
   ],
   "source": [
    "!wc -l s.srp.txt"
   ]
  },
  {
   "cell_type": "code",
   "execution_count": 38,
   "metadata": {},
   "outputs": [
    {
     "name": "stdout",
     "output_type": "stream",
     "text": [
      "ERP105150\n",
      "ERP114921\n",
      "SRP032367\n",
      "SRP040070\n",
      "SRP040661\n",
      "SRP049988\n",
      "SRP056027\n",
      "SRP056612\n",
      "SRP059219\n",
      "SRP060334\n",
      "SRP065794\n",
      "SRP076102\n",
      "SRP077920\n",
      "SRP082170\n",
      "SRP091886\n",
      "SRP093448\n",
      "SRP097673\n",
      "SRP103821\n",
      "SRP113333\n",
      "SRP118721\n",
      "SRP136329\n",
      "SRP148144\n",
      "SRP162136\n",
      "SRP170549\n",
      "SRP182839\n",
      "SRP189350\n",
      "SRP192740\n",
      "SRP198374\n",
      "SRP227272\n",
      "SRP230823\n",
      "SRP239551\n",
      "SRP242169\n",
      "SRP248092\n",
      "SRP249613\n",
      "SRP250446\n",
      "SRP250653\n",
      "SRP251618\n",
      "SRP252988\n",
      "SRP253640\n",
      "SRP253951\n",
      "SRP254080\n",
      "SRP254688\n",
      "SRP255769\n"
     ]
    }
   ],
   "source": [
    "!cat s.srp.txt"
   ]
  },
  {
   "cell_type": "code",
   "execution_count": 58,
   "metadata": {},
   "outputs": [
    {
     "name": "stdout",
     "output_type": "stream",
     "text": [
      "/opt/conda/lib/python3.7/site-packages/tqdm/std.py:658: FutureWarning: The Panel class is removed from pandas. Accessing it from the top-level namespace will also be removed in the next version\n",
      "  from pandas import Panel\n",
      "/opt/conda/lib/python3.7/site-packages/tqdm/std.py:658: FutureWarning: The Panel class is removed from pandas. Accessing it from the top-level namespace will also be removed in the next version\n",
      "  from pandas import Panel\n",
      "study_accession experiment_accession experiment_title                              experiment_desc                               organism_taxid  organism_name library_strategy library_source  library_selection sample_accession sample_title instrument           total_spots total_size  run_accession run_total_spots run_total_bases\n",
      "SRP139919       SRX3932496                  GSM3097024: P3; Homo sapiens; RNA-Seq         GSM3097024: P3; Homo sapiens; RNA-Seq  9606            Homo sapiens  RNA-Seq          TRANSCRIPTOMIC  cDNA              SRS3165478                    Illumina HiSeq 2500  24497335    1360950284  SRR6998005    24497335        2415907957    \n",
      "SRP139919       SRX3932495                  GSM3097023: P2; Homo sapiens; RNA-Seq         GSM3097023: P2; Homo sapiens; RNA-Seq  9606            Homo sapiens  RNA-Seq          TRANSCRIPTOMIC  cDNA              SRS3165479                    Illumina HiSeq 2500  34328839    1931534618  SRR6998004    34328839        3381368585    \n",
      "SRP139919       SRX3932494                  GSM3097022: P1; Homo sapiens; RNA-Seq         GSM3097022: P1; Homo sapiens; RNA-Seq  9606            Homo sapiens  RNA-Seq          TRANSCRIPTOMIC  cDNA              SRS3165473                    Illumina HiSeq 2500  27551025    1560773584  SRR6998003    27551025        2703419188    \n",
      "SRP139919       SRX3932493           GSM3097021: BEAS-2B_3; Homo sapiens; RNA-Seq  GSM3097021: BEAS-2B_3; Homo sapiens; RNA-Seq  9606            Homo sapiens  RNA-Seq          TRANSCRIPTOMIC  cDNA              SRS3165477                    Illumina HiSeq 2500  38381991    2129596801  SRR6998001    38381991        3792401291    \n",
      "SRP139919       SRX3932492           GSM3097020: BEAS-2B_2; Homo sapiens; RNA-Seq  GSM3097020: BEAS-2B_2; Homo sapiens; RNA-Seq  9606            Homo sapiens  RNA-Seq          TRANSCRIPTOMIC  cDNA              SRS3165476                    Illumina HiSeq 2500  37570572    2086002498  SRR6997999    37570572        3716362727    \n",
      "SRP139919       SRX3932491           GSM3097019: BEAS-2B_1; Homo sapiens; RNA-Seq  GSM3097019: BEAS-2B_1; Homo sapiens; RNA-Seq  9606            Homo sapiens  RNA-Seq          TRANSCRIPTOMIC  cDNA              SRS3165474                    Illumina HiSeq 2500  35073425    1959270542  SRR6997998    35073425        3470723590    \n",
      "SRP139919       SRX3932490              GSM3097018: A549_3; Homo sapiens; RNA-Seq     GSM3097018: A549_3; Homo sapiens; RNA-Seq  9606            Homo sapiens  RNA-Seq          TRANSCRIPTOMIC  cDNA              SRS3165475                    Illumina HiSeq 2500  26631986    1450874574  SRR6997997    26631986        2609307899    \n",
      "SRP139919       SRX3932489              GSM3097017: A549_2; Homo sapiens; RNA-Seq     GSM3097017: A549_2; Homo sapiens; RNA-Seq  9606            Homo sapiens  RNA-Seq          TRANSCRIPTOMIC  cDNA              SRS3165480                    Illumina HiSeq 2500  26865425    1513832423  SRR6997996    26865425        2643644698    \n",
      "SRP139919       SRX3932488              GSM3097016: A549_1; Homo sapiens; RNA-Seq     GSM3097016: A549_1; Homo sapiens; RNA-Seq  9606            Homo sapiens  RNA-Seq          TRANSCRIPTOMIC  cDNA              SRS3165472                    Illumina HiSeq 2500  24345825    1331599154  SRR6997995    24345825        2400979300    \n"
     ]
    }
   ],
   "source": [
    "!pysradb search '\"rna-seq\" \"respiratory\" \"cell-lines\"'"
   ]
  },
  {
   "cell_type": "code",
   "execution_count": 1,
   "metadata": {},
   "outputs": [
    {
     "name": "stdout",
     "output_type": "stream",
     "text": [
      "/opt/conda/lib/python3.7/site-packages/tqdm/std.py:658: FutureWarning: The Panel class is removed from pandas. Accessing it from the top-level namespace will also be removed in the next version\n",
      "  from pandas import Panel\n",
      "/opt/conda/lib/python3.7/site-packages/tqdm/std.py:658: FutureWarning: The Panel class is removed from pandas. Accessing it from the top-level namespace will also be removed in the next version\n",
      "  from pandas import Panel\n",
      "/opt/conda/lib/python3.7/site-packages/tqdm/std.py:658: FutureWarning: The Panel class is removed from pandas. Accessing it from the top-level namespace will also be removed in the next version\n",
      "  from pandas import Panel\n",
      "/opt/conda/lib/python3.7/site-packages/tqdm/std.py:658: FutureWarning: The Panel class is removed from pandas. Accessing it from the top-level namespace will also be removed in the next version\n",
      "  from pandas import Panel\n",
      "/opt/conda/lib/python3.7/site-packages/tqdm/std.py:658: FutureWarning: The Panel class is removed from pandas. Accessing it from the top-level namespace will also be removed in the next version\n",
      "  from pandas import Panel\n",
      "/opt/conda/lib/python3.7/site-packages/tqdm/std.py:658: FutureWarning: The Panel class is removed from pandas. Accessing it from the top-level namespace will also be removed in the next version\n",
      "  from pandas import Panel\n",
      "/opt/conda/lib/python3.7/site-packages/tqdm/std.py:658: FutureWarning: The Panel class is removed from pandas. Accessing it from the top-level namespace will also be removed in the next version\n",
      "  from pandas import Panel\n",
      "/opt/conda/lib/python3.7/site-packages/tqdm/std.py:658: FutureWarning: The Panel class is removed from pandas. Accessing it from the top-level namespace will also be removed in the next version\n",
      "  from pandas import Panel\n",
      "/opt/conda/lib/python3.7/site-packages/tqdm/std.py:658: FutureWarning: The Panel class is removed from pandas. Accessing it from the top-level namespace will also be removed in the next version\n",
      "  from pandas import Panel\n",
      "/opt/conda/lib/python3.7/site-packages/tqdm/std.py:658: FutureWarning: The Panel class is removed from pandas. Accessing it from the top-level namespace will also be removed in the next version\n",
      "  from pandas import Panel\n",
      "/opt/conda/lib/python3.7/site-packages/tqdm/std.py:658: FutureWarning: The Panel class is removed from pandas. Accessing it from the top-level namespace will also be removed in the next version\n",
      "  from pandas import Panel\n",
      "/opt/conda/lib/python3.7/site-packages/tqdm/std.py:658: FutureWarning: The Panel class is removed from pandas. Accessing it from the top-level namespace will also be removed in the next version\n",
      "  from pandas import Panel\n",
      "/opt/conda/lib/python3.7/site-packages/tqdm/std.py:658: FutureWarning: The Panel class is removed from pandas. Accessing it from the top-level namespace will also be removed in the next version\n",
      "  from pandas import Panel\n",
      "/opt/conda/lib/python3.7/site-packages/tqdm/std.py:658: FutureWarning: The Panel class is removed from pandas. Accessing it from the top-level namespace will also be removed in the next version\n",
      "  from pandas import Panel\n",
      "/opt/conda/lib/python3.7/site-packages/tqdm/std.py:658: FutureWarning: The Panel class is removed from pandas. Accessing it from the top-level namespace will also be removed in the next version\n",
      "  from pandas import Panel\n",
      "/opt/conda/lib/python3.7/site-packages/tqdm/std.py:658: FutureWarning: The Panel class is removed from pandas. Accessing it from the top-level namespace will also be removed in the next version\n",
      "  from pandas import Panel\n",
      "/opt/conda/lib/python3.7/site-packages/tqdm/std.py:658: FutureWarning: The Panel class is removed from pandas. Accessing it from the top-level namespace will also be removed in the next version\n",
      "  from pandas import Panel\n",
      "/opt/conda/lib/python3.7/site-packages/tqdm/std.py:658: FutureWarning: The Panel class is removed from pandas. Accessing it from the top-level namespace will also be removed in the next version\n",
      "  from pandas import Panel\n",
      "Traceback (most recent call last):\n",
      "  File \"/opt/conda/bin/pysradb\", line 8, in <module>\n",
      "    sys.exit(parse_args())\n",
      "  File \"/opt/conda/lib/python3.7/site-packages/pysradb/cli.py\", line 1048, in parse_args\n",
      "    args.saveto,\n",
      "  File \"/opt/conda/lib/python3.7/site-packages/pysradb/cli.py\", line 97, in metadata\n",
      "    expand_sample_attributes=expand,\n",
      "  File \"/opt/conda/lib/python3.7/site-packages/pysradb/sraweb.py\", line 508, in sra_metadata\n",
      "    ena_results = self.fetch_ena_fastq(srp)\n",
      "  File \"/opt/conda/lib/python3.7/site-packages/pysradb/sraweb.py\", line 151, in fetch_ena_fastq\n",
      "    url1_1, url1_2 = url1.split(\";\")\n",
      "ValueError: too many values to unpack (expected 2)\n",
      "/opt/conda/lib/python3.7/site-packages/tqdm/std.py:658: FutureWarning: The Panel class is removed from pandas. Accessing it from the top-level namespace will also be removed in the next version\n",
      "  from pandas import Panel\n",
      "/opt/conda/lib/python3.7/site-packages/tqdm/std.py:658: FutureWarning: The Panel class is removed from pandas. Accessing it from the top-level namespace will also be removed in the next version\n",
      "  from pandas import Panel\n",
      "/opt/conda/lib/python3.7/site-packages/tqdm/std.py:658: FutureWarning: The Panel class is removed from pandas. Accessing it from the top-level namespace will also be removed in the next version\n",
      "  from pandas import Panel\n",
      "/opt/conda/lib/python3.7/site-packages/tqdm/std.py:658: FutureWarning: The Panel class is removed from pandas. Accessing it from the top-level namespace will also be removed in the next version\n",
      "  from pandas import Panel\n",
      "/opt/conda/lib/python3.7/site-packages/tqdm/std.py:658: FutureWarning: The Panel class is removed from pandas. Accessing it from the top-level namespace will also be removed in the next version\n",
      "  from pandas import Panel\n",
      "/opt/conda/lib/python3.7/site-packages/tqdm/std.py:658: FutureWarning: The Panel class is removed from pandas. Accessing it from the top-level namespace will also be removed in the next version\n",
      "  from pandas import Panel\n",
      "/opt/conda/lib/python3.7/site-packages/tqdm/std.py:658: FutureWarning: The Panel class is removed from pandas. Accessing it from the top-level namespace will also be removed in the next version\n",
      "  from pandas import Panel\n",
      "/opt/conda/lib/python3.7/site-packages/tqdm/std.py:658: FutureWarning: The Panel class is removed from pandas. Accessing it from the top-level namespace will also be removed in the next version\n",
      "  from pandas import Panel\n",
      "/opt/conda/lib/python3.7/site-packages/tqdm/std.py:658: FutureWarning: The Panel class is removed from pandas. Accessing it from the top-level namespace will also be removed in the next version\n",
      "  from pandas import Panel\n",
      "/opt/conda/lib/python3.7/site-packages/tqdm/std.py:658: FutureWarning: The Panel class is removed from pandas. Accessing it from the top-level namespace will also be removed in the next version\n",
      "  from pandas import Panel\n",
      "/opt/conda/lib/python3.7/site-packages/tqdm/std.py:658: FutureWarning: The Panel class is removed from pandas. Accessing it from the top-level namespace will also be removed in the next version\n",
      "  from pandas import Panel\n",
      "/opt/conda/lib/python3.7/site-packages/tqdm/std.py:658: FutureWarning: The Panel class is removed from pandas. Accessing it from the top-level namespace will also be removed in the next version\n",
      "  from pandas import Panel\n",
      "/opt/conda/lib/python3.7/site-packages/tqdm/std.py:658: FutureWarning: The Panel class is removed from pandas. Accessing it from the top-level namespace will also be removed in the next version\n",
      "  from pandas import Panel\n",
      "/opt/conda/lib/python3.7/site-packages/tqdm/std.py:658: FutureWarning: The Panel class is removed from pandas. Accessing it from the top-level namespace will also be removed in the next version\n",
      "  from pandas import Panel\n"
     ]
    }
   ],
   "source": [
    "!pysradb metadata SRP139919 --detailed --expand > ../data/SRP139919_GSM_expanded.txt\n",
    "!pysradb metadata SRP170549 --detailed --expand > ../data/SRP170549_GSM_expanded.txt\n",
    "!pysradb metadata SRP040070 --detailed --expand > ../data/SRP040070_GSM_expanded.txt\n",
    "!pysradb metadata SRP049988 --detailed --expand > ../data/SRP049988_GSM_expanded.txt\n",
    "!pysradb metadata SRP056612 --detailed --expand > ../data/SRP056612_GSM_expanded.txt\n",
    "!pysradb metadata SRP091886 --detailed --expand > ../data/SRP091886_GSM_expanded.txt\n",
    "!pysradb metadata SRP097673 --detailed --expand > ../data/SRP097673_GSM_expanded.txt\n",
    "!pysradb metadata SRP118721 --detailed --expand > ../data/SRP118721_GSM_expanded.txt\n",
    "!pysradb metadata SRP060334 --detailed --expand > ../data/SRP060334_GSM_expanded.txt\n",
    "!pysradb metadata SRP076102 --detailed --expand > ../data/SRP076102_GSM_expanded.txt\n",
    "!pysradb metadata SRP189350 --detailed --expand > ../data/SRP189350_GSM_expanded.txt\n",
    "!pysradb metadata SRP227272 --detailed --expand > ../data/SRP227272_GSM_expanded.txt\n",
    "!pysradb metadata SRP230823 --detailed --expand > ../data/SRP230823_GSM_expanded.txt\n",
    "!pysradb metadata SRP253951 --detailed --expand > ../data/SRP253951_GSM_expanded.txt\n",
    "!pysradb metadata SRP254688 --detailed --expand > ../data/SRP254688_GSM_expanded.txt\n",
    "!pysradb metadata SRP248940 --detailed --expand > ../data/SRP248940_GSM_expanded.txt\n"
   ]
  },
  {
   "cell_type": "code",
   "execution_count": null,
   "metadata": {},
   "outputs": [],
   "source": []
  }
 ],
 "metadata": {
  "kernelspec": {
   "display_name": "Python 3",
   "language": "python",
   "name": "python3"
  },
  "language_info": {
   "codemirror_mode": {
    "name": "ipython",
    "version": 3
   },
   "file_extension": ".py",
   "mimetype": "text/x-python",
   "name": "python",
   "nbconvert_exporter": "python",
   "pygments_lexer": "ipython3",
   "version": "3.7.3"
  }
 },
 "nbformat": 4,
 "nbformat_minor": 4
}
