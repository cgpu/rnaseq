{
 "cells": [
  {
   "cell_type": "markdown",
   "metadata": {},
   "source": [
    "# Retrieving the HBA-DEALS results table"
   ]
  },
  {
   "cell_type": "markdown",
   "metadata": {},
   "source": [
    "The file can be accessed in this CloudOS link  https://cloudos.lifebit.ai/public/jobs/5ea6f2d15d1cd501034db91b <br>\n",
    "at `Results` > `results` > `hbadeals` > `contrast_few_real_samples` \n"
   ]
  },
  {
   "cell_type": "code",
   "execution_count": 17,
   "metadata": {},
   "outputs": [],
   "source": [
    "hbadeals_res <- read.table('https://github.com/cgpu/HBA-DEALS/releases/download/ontologizer/contrast_few_real_samples', sep = ',', header = TRUE)"
   ]
  },
  {
   "cell_type": "code",
   "execution_count": 19,
   "metadata": {},
   "outputs": [
    {
     "data": {
      "text/html": [
       "<table>\n",
       "<caption>A data.frame: 5 × 4</caption>\n",
       "<thead>\n",
       "\t<tr><th></th><th scope=col>Gene</th><th scope=col>Isoform</th><th scope=col>ExplogFC.FC</th><th scope=col>P</th></tr>\n",
       "\t<tr><th></th><th scope=col>&lt;fct&gt;</th><th scope=col>&lt;fct&gt;</th><th scope=col>&lt;dbl&gt;</th><th scope=col>&lt;dbl&gt;</th></tr>\n",
       "</thead>\n",
       "<tbody>\n",
       "\t<tr><th scope=row>1</th><td>ENSG00000004059.11_ARF5</td><td>Expression                 </td><td>0.1226688</td><td>0.20</td></tr>\n",
       "\t<tr><th scope=row>2</th><td>ENSG00000004059.11_ARF5</td><td>ENST00000000233.10_ARF5-201</td><td>1.0096906</td><td>0.45</td></tr>\n",
       "\t<tr><th scope=row>3</th><td>ENSG00000004059.11_ARF5</td><td>ENST00000463733.5_ARF5-204 </td><td>0.8009041</td><td>0.10</td></tr>\n",
       "\t<tr><th scope=row>4</th><td>ENSG00000004059.11_ARF5</td><td>ENST00000489673.1_ARF5-206 </td><td>0.9817101</td><td>0.45</td></tr>\n",
       "\t<tr><th scope=row>5</th><td>ENSG00000003056.8_M6PR </td><td>Expression                 </td><td>0.1746619</td><td>0.10</td></tr>\n",
       "</tbody>\n",
       "</table>\n"
      ],
      "text/latex": [
       "A data.frame: 5 × 4\n",
       "\\begin{tabular}{r|llll}\n",
       "  & Gene & Isoform & ExplogFC.FC & P\\\\\n",
       "  & <fct> & <fct> & <dbl> & <dbl>\\\\\n",
       "\\hline\n",
       "\t1 & ENSG00000004059.11\\_ARF5 & Expression                  & 0.1226688 & 0.20\\\\\n",
       "\t2 & ENSG00000004059.11\\_ARF5 & ENST00000000233.10\\_ARF5-201 & 1.0096906 & 0.45\\\\\n",
       "\t3 & ENSG00000004059.11\\_ARF5 & ENST00000463733.5\\_ARF5-204  & 0.8009041 & 0.10\\\\\n",
       "\t4 & ENSG00000004059.11\\_ARF5 & ENST00000489673.1\\_ARF5-206  & 0.9817101 & 0.45\\\\\n",
       "\t5 & ENSG00000003056.8\\_M6PR  & Expression                  & 0.1746619 & 0.10\\\\\n",
       "\\end{tabular}\n"
      ],
      "text/markdown": [
       "\n",
       "A data.frame: 5 × 4\n",
       "\n",
       "| <!--/--> | Gene &lt;fct&gt; | Isoform &lt;fct&gt; | ExplogFC.FC &lt;dbl&gt; | P &lt;dbl&gt; |\n",
       "|---|---|---|---|---|\n",
       "| 1 | ENSG00000004059.11_ARF5 | Expression                  | 0.1226688 | 0.20 |\n",
       "| 2 | ENSG00000004059.11_ARF5 | ENST00000000233.10_ARF5-201 | 1.0096906 | 0.45 |\n",
       "| 3 | ENSG00000004059.11_ARF5 | ENST00000463733.5_ARF5-204  | 0.8009041 | 0.10 |\n",
       "| 4 | ENSG00000004059.11_ARF5 | ENST00000489673.1_ARF5-206  | 0.9817101 | 0.45 |\n",
       "| 5 | ENSG00000003056.8_M6PR  | Expression                  | 0.1746619 | 0.10 |\n",
       "\n"
      ],
      "text/plain": [
       "  Gene                    Isoform                     ExplogFC.FC P   \n",
       "1 ENSG00000004059.11_ARF5 Expression                  0.1226688   0.20\n",
       "2 ENSG00000004059.11_ARF5 ENST00000000233.10_ARF5-201 1.0096906   0.45\n",
       "3 ENSG00000004059.11_ARF5 ENST00000463733.5_ARF5-204  0.8009041   0.10\n",
       "4 ENSG00000004059.11_ARF5 ENST00000489673.1_ARF5-206  0.9817101   0.45\n",
       "5 ENSG00000003056.8_M6PR  Expression                  0.1746619   0.10"
      ]
     },
     "metadata": {},
     "output_type": "display_data"
    }
   ],
   "source": [
    "head(hbadeals_res, 5)"
   ]
  },
  {
   "cell_type": "code",
   "execution_count": 21,
   "metadata": {},
   "outputs": [],
   "source": [
    "hbadeals_res <- splitstackshape::cSplit(hbadeals_res, splitCols = \"Gene\", sep = '_')\n",
    "colnames(hbadeals_res) <- c( \"Isoform\", \"ExplogFC.FC\", \"P\", \"Geneid\", \"GeneSymbol\")\n",
    "hbadeals_res <- hbadeals_res[ , c( \"Geneid\", \"Isoform\", \"ExplogFC.FC\", \"P\", \"GeneSymbol\")]"
   ]
  },
  {
   "cell_type": "code",
   "execution_count": 22,
   "metadata": {},
   "outputs": [
    {
     "data": {
      "text/html": [
       "<table>\n",
       "<caption>A data.table: 2 × 5</caption>\n",
       "<thead>\n",
       "\t<tr><th scope=col>Geneid</th><th scope=col>Isoform</th><th scope=col>ExplogFC.FC</th><th scope=col>P</th><th scope=col>GeneSymbol</th></tr>\n",
       "\t<tr><th scope=col>&lt;fct&gt;</th><th scope=col>&lt;fct&gt;</th><th scope=col>&lt;dbl&gt;</th><th scope=col>&lt;dbl&gt;</th><th scope=col>&lt;fct&gt;</th></tr>\n",
       "</thead>\n",
       "<tbody>\n",
       "\t<tr><td>ENSG00000004059.11</td><td>Expression                 </td><td>0.1226688</td><td>0.20</td><td>ARF5</td></tr>\n",
       "\t<tr><td>ENSG00000004059.11</td><td>ENST00000000233.10_ARF5-201</td><td>1.0096906</td><td>0.45</td><td>ARF5</td></tr>\n",
       "</tbody>\n",
       "</table>\n"
      ],
      "text/latex": [
       "A data.table: 2 × 5\n",
       "\\begin{tabular}{lllll}\n",
       " Geneid & Isoform & ExplogFC.FC & P & GeneSymbol\\\\\n",
       " <fct> & <fct> & <dbl> & <dbl> & <fct>\\\\\n",
       "\\hline\n",
       "\t ENSG00000004059.11 & Expression                  & 0.1226688 & 0.20 & ARF5\\\\\n",
       "\t ENSG00000004059.11 & ENST00000000233.10\\_ARF5-201 & 1.0096906 & 0.45 & ARF5\\\\\n",
       "\\end{tabular}\n"
      ],
      "text/markdown": [
       "\n",
       "A data.table: 2 × 5\n",
       "\n",
       "| Geneid &lt;fct&gt; | Isoform &lt;fct&gt; | ExplogFC.FC &lt;dbl&gt; | P &lt;dbl&gt; | GeneSymbol &lt;fct&gt; |\n",
       "|---|---|---|---|---|\n",
       "| ENSG00000004059.11 | Expression                  | 0.1226688 | 0.20 | ARF5 |\n",
       "| ENSG00000004059.11 | ENST00000000233.10_ARF5-201 | 1.0096906 | 0.45 | ARF5 |\n",
       "\n"
      ],
      "text/plain": [
       "  Geneid             Isoform                     ExplogFC.FC P    GeneSymbol\n",
       "1 ENSG00000004059.11 Expression                  0.1226688   0.20 ARF5      \n",
       "2 ENSG00000004059.11 ENST00000000233.10_ARF5-201 1.0096906   0.45 ARF5      "
      ]
     },
     "metadata": {},
     "output_type": "display_data"
    }
   ],
   "source": [
    "head(hbadeals_res, 2)"
   ]
  },
  {
   "cell_type": "code",
   "execution_count": 10,
   "metadata": {},
   "outputs": [],
   "source": [
    "\n",
    "signif       <-   hbadeals_res[ ((( abs(hbadeals_res$ExplogFC.FC)) >  1.2)) &  (hbadeals_res$P == 0.05)  , ]\n"
   ]
  },
  {
   "cell_type": "code",
   "execution_count": 13,
   "metadata": {},
   "outputs": [
    {
     "data": {
      "text/html": [
       "<table>\n",
       "<caption>A data.table: 2 × 5</caption>\n",
       "<thead>\n",
       "\t<tr><th scope=col>Geneid</th><th scope=col>Isoform</th><th scope=col>ExplogFC.FC</th><th scope=col>P</th><th scope=col>GeneSymbol</th></tr>\n",
       "\t<tr><th scope=col>&lt;fct&gt;</th><th scope=col>&lt;fct&gt;</th><th scope=col>&lt;dbl&gt;</th><th scope=col>&lt;dbl&gt;</th><th scope=col>&lt;fct&gt;</th></tr>\n",
       "</thead>\n",
       "<tbody>\n",
       "\t<tr><td>ENSG00000003056.8 </td><td>ENST00000543834.1_M6PR-210</td><td>1.366975</td><td>0.05</td><td>M6PR</td></tr>\n",
       "\t<tr><td>ENSG00000008405.12</td><td>ENST00000552790.5_CRY1-205</td><td>1.317320</td><td>0.05</td><td>CRY1</td></tr>\n",
       "</tbody>\n",
       "</table>\n"
      ],
      "text/latex": [
       "A data.table: 2 × 5\n",
       "\\begin{tabular}{lllll}\n",
       " Geneid & Isoform & ExplogFC.FC & P & GeneSymbol\\\\\n",
       " <fct> & <fct> & <dbl> & <dbl> & <fct>\\\\\n",
       "\\hline\n",
       "\t ENSG00000003056.8  & ENST00000543834.1\\_M6PR-210 & 1.366975 & 0.05 & M6PR\\\\\n",
       "\t ENSG00000008405.12 & ENST00000552790.5\\_CRY1-205 & 1.317320 & 0.05 & CRY1\\\\\n",
       "\\end{tabular}\n"
      ],
      "text/markdown": [
       "\n",
       "A data.table: 2 × 5\n",
       "\n",
       "| Geneid &lt;fct&gt; | Isoform &lt;fct&gt; | ExplogFC.FC &lt;dbl&gt; | P &lt;dbl&gt; | GeneSymbol &lt;fct&gt; |\n",
       "|---|---|---|---|---|\n",
       "| ENSG00000003056.8  | ENST00000543834.1_M6PR-210 | 1.366975 | 0.05 | M6PR |\n",
       "| ENSG00000008405.12 | ENST00000552790.5_CRY1-205 | 1.317320 | 0.05 | CRY1 |\n",
       "\n"
      ],
      "text/plain": [
       "  Geneid             Isoform                    ExplogFC.FC P    GeneSymbol\n",
       "1 ENSG00000003056.8  ENST00000543834.1_M6PR-210 1.366975    0.05 M6PR      \n",
       "2 ENSG00000008405.12 ENST00000552790.5_CRY1-205 1.317320    0.05 CRY1      "
      ]
     },
     "metadata": {},
     "output_type": "display_data"
    }
   ],
   "source": [
    "head(signif, 2)"
   ]
  },
  {
   "cell_type": "markdown",
   "metadata": {},
   "source": [
    " # Create the `universe.txt` and `gene_set.txt` lists for Ontologizer"
   ]
  },
  {
   "cell_type": "code",
   "execution_count": null,
   "metadata": {},
   "outputs": [],
   "source": [
    "write.table(hbadeals_res$GeneSymbol,'universe.txt',quote = F,row.names = F,col.names = F)\n",
    "write.table(signif$GeneSymbol,'gene_set.txt'      ,quote = F,row.names = F,col.names = F)"
   ]
  }
 ],
 "metadata": {
  "jupytext": {
   "cell_metadata_filter": "-all",
   "executable": "/usr/bin/env Rscript",
   "main_language": "R",
   "notebook_metadata_filter": "-all"
  },
  "kernelspec": {
   "display_name": "R",
   "language": "R",
   "name": "ir"
  },
  "language_info": {
   "codemirror_mode": "r",
   "file_extension": ".r",
   "mimetype": "text/x-r-source",
   "name": "R",
   "pygments_lexer": "r",
   "version": "3.6.2"
  }
 },
 "nbformat": 4,
 "nbformat_minor": 4
}
