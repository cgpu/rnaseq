{
 "cells": [
  {
   "cell_type": "markdown",
   "metadata": {},
   "source": [
    "---\n",
    "**NOTE**\n",
    "\n",
    "You can convert this document to an .R or .Rmd file if you prefer by using the python library [`jupytext`](https://github.com/mwouts/jupytext).\n",
    "To do so, type the following command:\n",
    "\n",
    "\n",
    "```bash\n",
    "jupytext --to Rmd create_hbadeals_metadata.ipynb #or\n",
    "jupytext --to R   create_hbadeals_metadata.ipynb\n",
    "```\n",
    "You should see something like the following in your console after typing the above command:\n",
    "\n",
    "```\n",
    "[jupytext] Reading create_hbadeals_metadata.ipynb\n",
    "[jupytext] Writing create_hbadeals_metadata.R\n",
    "```\n",
    "\n",
    "The above tells you that the `.R` version of the `.ipynb` notebook has been created. \n",
    "\n",
    "---"
   ]
  },
  {
   "cell_type": "markdown",
   "metadata": {},
   "source": [
    "# Creating the required input files for running [TheJacksonLaboratory/coronavirus-nf](https://github.com/TheJacksonLaboratory/coronavirus-nf/blob/master/main.nf#L1645-L1673)\n",
    "\n",
    "\n",
    "The helper script was created to create the required metadata files for the parameters:\n",
    "\n",
    "\n",
    "```bash\n",
    "--accessionList\n",
    "--hbadeals_metadata\n",
    "```\n",
    "\n",
    "```console\n",
    "Mandatory arguments:\n",
    "      --accessionList [file]        Path to input file with accession list to fetch from SRA.\n",
    "                                    The file should be a one column list with no header.\n",
    "                                    \n",
    "      --hbadeals_metadata [file]    Path to input master file that contains the metadata for the contrasts.\n",
    "                                    The file should be a two column .csv file with a header \n",
    "                                    (eg colnames: \"contrast\", \"metadata_file\").\n",
    "                                    \n",
    "                                    The 1st column must have a unique id that describes the cohort.\n",
    "                                    The 2nd column must point to the path of the cohort metadata file.\n",
    "                                    \n",
    "                                    The metadata file must have the following information:\n",
    "                                    - SRRxx id\n",
    "                                    - status\n",
    "                                    This will be used as input for the rsem2hbadeals.R script.\n",
    "                                    See rsem2hbadeals.R --help for specifications of this files.\n",
    "                                    \n",
    "```"
   ]
  },
  {
   "cell_type": "markdown",
   "metadata": {},
   "source": [
    "# Loading libraries\n",
    "\n",
    "To install the following libraries if you are in a JupyterLab Notebook Session, open a terminal from `File > New > Terminal` and install via conda by typing the following command:\n",
    "\n",
    "\n",
    "```bash\n",
    "conda install r-dplyr r-rlist r-snakecase -y\n",
    "```"
   ]
  },
  {
   "cell_type": "code",
   "execution_count": 35,
   "metadata": {},
   "outputs": [],
   "source": [
    "suppressWarnings(suppressMessages(library(dplyr)))\n",
    "suppressWarnings(suppressMessages(library(rlist)))\n",
    "suppressWarnings(suppressMessages(library(snakecase)))"
   ]
  },
  {
   "cell_type": "markdown",
   "metadata": {},
   "source": [
    "# Generating required files from the [processDatasets.py](https://github.com/TheJacksonLaboratory/coronavirus-sample-pre-processing-nf/blob/master/scripts/processDatasets.py)\n",
    "\n",
    "\n",
    "**Note**: Using the latest one by date, [`case_control-april21.tsv`](https://github.com/TheJacksonLaboratory/coronavirus-sample-pre-processing-nf/tree/655ccc8aead83ecd40168fa83825f2f87c3cf28a/data)\n",
    "\n",
    "The following code won't work unless you have the token, to get the link with the token you have to be logged in to GitHub in the browser that you are opening the following link. Copy the url of the file here [`case_control-april21.tsv`](https://github.com/TheJacksonLaboratory/coronavirus-sample-pre-processing-nf/tree/655ccc8aead83ecd40168fa83825f2f87c3cf28a/data)"
   ]
  },
  {
   "cell_type": "code",
   "execution_count": 38,
   "metadata": {},
   "outputs": [],
   "source": [
    "metadata <- as.data.frame(data.table::fread(\"https://raw.githubusercontent.com/TheJacksonLaboratory/coronavirus-sample-pre-processing-nf/655ccc8aead83ecd40168fa83825f2f87c3cf28a/data/case_control-april21.tsv?token=NOTTHEREALTOKEN\"))"
   ]
  },
  {
   "cell_type": "code",
   "execution_count": 39,
   "metadata": {},
   "outputs": [
    {
     "data": {
      "text/html": [
       "<table>\n",
       "<caption>A data.frame: 2 × 5</caption>\n",
       "<thead>\n",
       "\t<tr><th></th><th scope=col>cohort</th><th scope=col>srp</th><th scope=col>srr</th><th scope=col>category</th><th scope=col>status</th></tr>\n",
       "\t<tr><th></th><th scope=col>&lt;int&gt;</th><th scope=col>&lt;chr&gt;</th><th scope=col>&lt;chr&gt;</th><th scope=col>&lt;chr&gt;</th><th scope=col>&lt;chr&gt;</th></tr>\n",
       "</thead>\n",
       "<tbody>\n",
       "\t<tr><th scope=row>1</th><td>1</td><td>SRP230823</td><td>SRR10503939</td><td>H5N1.infected</td><td>case   </td></tr>\n",
       "\t<tr><th scope=row>2</th><td>1</td><td>SRP230823</td><td>SRR10503924</td><td>mock         </td><td>control</td></tr>\n",
       "</tbody>\n",
       "</table>\n"
      ],
      "text/latex": [
       "A data.frame: 2 × 5\n",
       "\\begin{tabular}{r|lllll}\n",
       "  & cohort & srp & srr & category & status\\\\\n",
       "  & <int> & <chr> & <chr> & <chr> & <chr>\\\\\n",
       "\\hline\n",
       "\t1 & 1 & SRP230823 & SRR10503939 & H5N1.infected & case   \\\\\n",
       "\t2 & 1 & SRP230823 & SRR10503924 & mock          & control\\\\\n",
       "\\end{tabular}\n"
      ],
      "text/markdown": [
       "\n",
       "A data.frame: 2 × 5\n",
       "\n",
       "| <!--/--> | cohort &lt;int&gt; | srp &lt;chr&gt; | srr &lt;chr&gt; | category &lt;chr&gt; | status &lt;chr&gt; |\n",
       "|---|---|---|---|---|---|\n",
       "| 1 | 1 | SRP230823 | SRR10503939 | H5N1.infected | case    |\n",
       "| 2 | 1 | SRP230823 | SRR10503924 | mock          | control |\n",
       "\n"
      ],
      "text/plain": [
       "  cohort srp       srr         category      status \n",
       "1 1      SRP230823 SRR10503939 H5N1.infected case   \n",
       "2 1      SRP230823 SRR10503924 mock          control"
      ]
     },
     "metadata": {},
     "output_type": "display_data"
    }
   ],
   "source": [
    "head(metadata,2)"
   ]
  },
  {
   "cell_type": "markdown",
   "metadata": {},
   "source": [
    "# Step 1. Create an individual dataframe for each contrast\n",
    "\n",
    "And store all the individual cohort dataframes in a list to be able in the next step to write them into seperate .csv files.<br>\n",
    "Below I am printing a summary of the list to check I have all **49** dataframes, one for each contrast."
   ]
  },
  {
   "cell_type": "code",
   "execution_count": 21,
   "metadata": {},
   "outputs": [
    {
     "data": {
      "text/plain": [
       "     Length Class      Mode\n",
       "[1,] 5      data.frame list\n",
       "[2,] 5      data.frame list\n",
       "[3,] 5      data.frame list\n",
       "[4,] 5      data.frame list\n",
       "[5,] 5      data.frame list\n",
       "[6,] 5      data.frame list"
      ]
     },
     "metadata": {},
     "output_type": "display_data"
    },
    {
     "data": {
      "text/html": [
       "49"
      ],
      "text/latex": [
       "49"
      ],
      "text/markdown": [
       "49"
      ],
      "text/plain": [
       "[1] 49"
      ]
     },
     "metadata": {},
     "output_type": "display_data"
    }
   ],
   "source": [
    "contrasts_ids       <- unique(metadata$cohort)\n",
    "\n",
    "all_contrasts_meta <- list()\n",
    "for (contrast_id in contrasts_ids){\n",
    "  contrast_meta <- metadata[metadata$cohort == contrast_id , ]\n",
    "  all_contrasts_meta <- rlist::list.append(all_contrasts_meta, contrast_meta)\n",
    "}\n",
    "\n",
    "head(summary(all_contrasts_meta))\n",
    "length(all_contrasts_meta)"
   ]
  },
  {
   "cell_type": "markdown",
   "metadata": {},
   "source": [
    "# Step 2. Loop over every contrast metadata dataframe and write as .csv\n",
    "\n",
    "We will also use some of the columns to create a unique id that describes each contrast. I chose here to add the **`srp`** and **`category`** values of the `case` subjects, as it might provide more information that the names of the controls. <br>\n",
    "\n",
    "\n",
    "Briefly, the following block will:\n",
    "\n",
    "1. access each of the contrast dataframes based on their position in the list named **`all_contrasts_meta`**\n",
    "2. assign the **i-th** element of the list (**contrast dataframe i**) to the variable `meta`\n",
    "3. re-order the **`meta`** dataframe based on column 'status' (a case will be the first row)\n",
    "4. save in the **`name`** variable the unique id derived from **`srp`**, **`category`** of a case dataframe entry. $^{*}$\n",
    "5. extract info on total **sample size of cohort**, number of controls and number of cases in each contrast\n",
    "6. keep only relevant columns initially named **`srr`** **`status`**, and rename **`srr`** to **`sample_id`** \n",
    "7. based on the info retrieved from 4., 5. create a filename that describes the contrast and adds info on sample size\n",
    "8. write each contrast metadata modified dataframe as a .csv file with 2 columns and a header (colnames: **`sample_id`** ,**`status`** ).\n",
    "\n",
    "\\* **NOTE:**  I am using also the function `snakecase::to_parsed_case()` to clean characters like `/` in the filename that might break filepaths."
   ]
  },
  {
   "cell_type": "code",
   "execution_count": 31,
   "metadata": {},
   "outputs": [
    {
     "name": "stderr",
     "output_type": "stream",
     "text": [
      "10, 6, 4          SRP_230823_H_5_N_1_infected  \n",
      "15, 6, 9          SRP_040070_MRC_5_low_MOI_SARS_n_a_24_h  \n",
      "15, 6, 9          SRP_040070_MRC_5_High_MOI_SARS_n_a_24_h  \n",
      "11, 6, 5          SRP_040070_MRC_5_low_MOI_SARS_n_a_48_h  \n",
      "10, 6, 4          SRP_040070_MRC_5_High_MOI_SARS_n_a_48_h  \n",
      "12, 6, 6          SRP_040070_MRC_5_low_MOI_MERS_n_a_24_h  \n",
      "12, 6, 6          SRP_040070_MRC_5_High_MOI_MERS_n_a_24_h  \n",
      "11, 6, 5          SRP_040070_MRC_5_low_MOI_MERS_n_a_48_h  \n",
      "10, 6, 4          SRP_040070_MRC_5_High_MOI_MERS_n_a_48_h  \n",
      "13, 9, 4          SRP_040070_MRC_5_SARS_IF_Nbeta_24_h  \n",
      "9, 5, 4          SRP_040070_MRC_5_SARS_IF_Nbeta_48_h  \n",
      "13, 9, 4          SRP_040070_MRC_5_SARS_Gleevec_24_h  \n",
      "9, 5, 4          SRP_040070_MRC_5_SARS_Gleevec_48_h  \n",
      "14, 6, 8          SRP_040070_MRC_5_MERS_Gleevec_24_h  \n",
      "13, 5, 8          SRP_040070_MRC_5_MERS_Gleevec_48_h  \n",
      "14, 6, 8          SRP_040070_MRC_5_MERS_IF_Nbeta_24_h  \n",
      "13, 5, 8          SRP_040070_MRC_5_MERS_IF_Nbeta_48_h  \n",
      "4, 2, 2          SRP_076102_flu_A_2_h  \n",
      "4, 2, 2          SRP_076102_flu_A_4_h  \n",
      "4, 2, 2          SRP_076102_flu_A_8_h  \n",
      "8, 6, 2          SRP_091886_H_1_N_1_03_h  \n",
      "8, 6, 2          SRP_091886_H_1_N_1_06_h  \n",
      "8, 6, 2          SRP_091886_H_1_N_1_12_h  \n",
      "8, 6, 2          SRP_091886_H_1_N_1_18_h  \n",
      "8, 6, 2          SRP_091886_H_3_N_2_03_h  \n",
      "8, 6, 2          SRP_091886_H_3_N_2_06_h  \n",
      "8, 6, 2          SRP_091886_H_3_N_2_12_h  \n",
      "8, 6, 2          SRP_091886_H_3_N_2_18_h  \n",
      "8, 6, 2          SRP_091886_H_5_N_1_03_h  \n",
      "8, 6, 2          SRP_091886_H_5_N_1_06_h  \n",
      "8, 6, 2          SRP_091886_H_5_N_1_12_h  \n",
      "8, 6, 2          SRP_091886_H_5_N_1_18_h  \n",
      "2, 1, 1          SRP_118721_inf_A_no_treatment  \n",
      "3, 1, 2          SRP_118721_inf_A_lariciresinol_low  \n",
      "3, 1, 2          SRP_118721_inf_A_lariciresinol_high  \n",
      "6, 3, 3          SRP_170549_MERS  \n",
      "6, 3, 3          SRP_170549_AM_580  \n",
      "12, 6, 6          SRP_227272_MERS  \n",
      "5, 4, 1          SRP_254688_covid_sputum  \n",
      "6, 5, 1          SRP_254688_covid_sputum  \n",
      "36, 28, 8          SRP_253951_A_549_RSV_0_h  \n",
      "9, 6, 3          SRP_253951_A_549_RSV_24_h  \n",
      "36, 28, 8          SRP_253951_A_549_IAV_0_h  \n",
      "40, 28, 12          SRP_253951_A_549_covid_0_h  \n",
      "9, 6, 3          SRP_253951_A_549_covid_24_h  \n",
      "6, 3, 3          SRP_253951_calu_3_covid_24_h  \n",
      "16, 8, 8          SRP_253951_covid_lung_biopsy  \n",
      "24, 12, 12          SRP_253951_NHBE_covid_0_h  \n",
      "6, 3, 3          SRP_253951_A_549_covid_ACE_2_24_h  \n"
     ]
    }
   ],
   "source": [
    "savedir <- '../data/'\n",
    "\n",
    "for (i in seq_along(all_contrasts_meta)) {\n",
    "  meta <- all_contrasts_meta[[i]]\n",
    "  cohort <- meta$cohort[1]\n",
    "  meta <- meta[order(meta$status),]\n",
    "  name <-  snakecase::to_parsed_case(paste(meta[1, c('srp', 'category')], collapse = \"_\"))\n",
    "  N_cohort   <- dim(meta)[1]\n",
    "  N_controls <- dim(meta[meta$status == 'control', ])[1]\n",
    "  N_cases    <- dim(meta[meta$status == 'case', ])[1]\n",
    "  toWrite <- meta [, c(\"srr\",\"status\")]\n",
    "  colnames(toWrite) <- c(\"sample_id\", \"status\")\n",
    "  data.table::fwrite( toWrite, \n",
    "                     file = paste0(savedir, \n",
    "                                   name, \n",
    "                                   \"_cohort_\", cohort, \n",
    "                                   \"__Nctrl_\", N_controls ,\n",
    "                                   \"__Ncases_\", N_cases, \n",
    "                                   \".csv\") , \n",
    "                     sep = \",\", col.names = TRUE, row.names = FALSE)\n",
    "    \n",
    "  message( N_cohort, \", \", N_controls, \", \" ,  N_cases, \"          \", name, \"  \", appendLF = FALSE)\n",
    "}"
   ]
  },
  {
   "cell_type": "markdown",
   "metadata": {},
   "source": [
    "## **NOTE:**\n",
    "\n",
    "We observe above that some of the contrasts have a very small sample size.\n",
    "I am not excluding those from the CloudOS run, but these will fail, especially the ones with < 10 N, sample size."
   ]
  },
  {
   "cell_type": "markdown",
   "metadata": {},
   "source": [
    "# Step 3. Add an extra contrast with all controls vs all cases (any viral infection) and generate the **`--accessionList`** input\n",
    "\n",
    "To create a contrast with a larger sample size, assuming we do not have biological replicates with different SRR ids, which would inflate falsely our sample size we can keep the unique control and unique cases across any viral infection. This might give more robust results as we will have a larger sample size.\n",
    "\n",
    "For creating the contrast 'all contrasts vs all cases' see block below:"
   ]
  },
  {
   "cell_type": "code",
   "execution_count": 40,
   "metadata": {},
   "outputs": [],
   "source": [
    "metadata <- metadata[, c(\"srr\",\"status\")]\n",
    "colnames(metadata) <- c(\"sample_id\", \"status\")"
   ]
  },
  {
   "cell_type": "code",
   "execution_count": 42,
   "metadata": {},
   "outputs": [
    {
     "data": {
      "text/html": [
       "<table>\n",
       "<caption>A data.frame: 2 × 2</caption>\n",
       "<thead>\n",
       "\t<tr><th></th><th scope=col>sample_id</th><th scope=col>status</th></tr>\n",
       "\t<tr><th></th><th scope=col>&lt;chr&gt;</th><th scope=col>&lt;chr&gt;</th></tr>\n",
       "</thead>\n",
       "<tbody>\n",
       "\t<tr><th scope=row>1</th><td>SRR10503939</td><td>case   </td></tr>\n",
       "\t<tr><th scope=row>2</th><td>SRR10503924</td><td>control</td></tr>\n",
       "</tbody>\n",
       "</table>\n"
      ],
      "text/latex": [
       "A data.frame: 2 × 2\n",
       "\\begin{tabular}{r|ll}\n",
       "  & sample\\_id & status\\\\\n",
       "  & <chr> & <chr>\\\\\n",
       "\\hline\n",
       "\t1 & SRR10503939 & case   \\\\\n",
       "\t2 & SRR10503924 & control\\\\\n",
       "\\end{tabular}\n"
      ],
      "text/markdown": [
       "\n",
       "A data.frame: 2 × 2\n",
       "\n",
       "| <!--/--> | sample_id &lt;chr&gt; | status &lt;chr&gt; |\n",
       "|---|---|---|\n",
       "| 1 | SRR10503939 | case    |\n",
       "| 2 | SRR10503924 | control |\n",
       "\n"
      ],
      "text/plain": [
       "  sample_id   status \n",
       "1 SRR10503939 case   \n",
       "2 SRR10503924 control"
      ]
     },
     "metadata": {},
     "output_type": "display_data"
    },
    {
     "data": {
      "text/html": [
       "<style>\n",
       ".list-inline {list-style: none; margin:0; padding: 0}\n",
       ".list-inline>li {display: inline-block}\n",
       ".list-inline>li:not(:last-child)::after {content: \"\\00b7\"; padding: 0 .5ex}\n",
       "</style>\n",
       "<ol class=list-inline><li>537</li><li>2</li></ol>\n"
      ],
      "text/latex": [
       "\\begin{enumerate*}\n",
       "\\item 537\n",
       "\\item 2\n",
       "\\end{enumerate*}\n"
      ],
      "text/markdown": [
       "1. 537\n",
       "2. 2\n",
       "\n",
       "\n"
      ],
      "text/plain": [
       "[1] 537   2"
      ]
     },
     "metadata": {},
     "output_type": "display_data"
    }
   ],
   "source": [
    "head(metadata, 2)\n",
    "dim(metadata)"
   ]
  },
  {
   "cell_type": "code",
   "execution_count": 43,
   "metadata": {},
   "outputs": [],
   "source": [
    "# use the function 'dplyr::distinct()' to keep unique rows\n",
    "metadata <- dplyr::distinct(metadata)"
   ]
  },
  {
   "cell_type": "code",
   "execution_count": 44,
   "metadata": {},
   "outputs": [
    {
     "data": {
      "text/html": [
       "<table>\n",
       "<caption>A data.frame: 2 × 2</caption>\n",
       "<thead>\n",
       "\t<tr><th></th><th scope=col>sample_id</th><th scope=col>status</th></tr>\n",
       "\t<tr><th></th><th scope=col>&lt;chr&gt;</th><th scope=col>&lt;chr&gt;</th></tr>\n",
       "</thead>\n",
       "<tbody>\n",
       "\t<tr><th scope=row>1</th><td>SRR10503939</td><td>case   </td></tr>\n",
       "\t<tr><th scope=row>2</th><td>SRR10503924</td><td>control</td></tr>\n",
       "</tbody>\n",
       "</table>\n"
      ],
      "text/latex": [
       "A data.frame: 2 × 2\n",
       "\\begin{tabular}{r|ll}\n",
       "  & sample\\_id & status\\\\\n",
       "  & <chr> & <chr>\\\\\n",
       "\\hline\n",
       "\t1 & SRR10503939 & case   \\\\\n",
       "\t2 & SRR10503924 & control\\\\\n",
       "\\end{tabular}\n"
      ],
      "text/markdown": [
       "\n",
       "A data.frame: 2 × 2\n",
       "\n",
       "| <!--/--> | sample_id &lt;chr&gt; | status &lt;chr&gt; |\n",
       "|---|---|---|\n",
       "| 1 | SRR10503939 | case    |\n",
       "| 2 | SRR10503924 | control |\n",
       "\n"
      ],
      "text/plain": [
       "  sample_id   status \n",
       "1 SRR10503939 case   \n",
       "2 SRR10503924 control"
      ]
     },
     "metadata": {},
     "output_type": "display_data"
    },
    {
     "data": {
      "text/html": [
       "<style>\n",
       ".list-inline {list-style: none; margin:0; padding: 0}\n",
       ".list-inline>li {display: inline-block}\n",
       ".list-inline>li:not(:last-child)::after {content: \"\\00b7\"; padding: 0 .5ex}\n",
       "</style>\n",
       "<ol class=list-inline><li>351</li><li>2</li></ol>\n"
      ],
      "text/latex": [
       "\\begin{enumerate*}\n",
       "\\item 351\n",
       "\\item 2\n",
       "\\end{enumerate*}\n"
      ],
      "text/markdown": [
       "1. 351\n",
       "2. 2\n",
       "\n",
       "\n"
      ],
      "text/plain": [
       "[1] 351   2"
      ]
     },
     "metadata": {},
     "output_type": "display_data"
    }
   ],
   "source": [
    "head(metadata, 2)\n",
    "dim(metadata)"
   ]
  },
  {
   "cell_type": "markdown",
   "metadata": {},
   "source": [
    "We have **351** subjects in our cohort (unique **SRR** ids). <br>\n",
    "Let's now inspect the breakdown by class, **`control`**, **`case`**."
   ]
  },
  {
   "cell_type": "code",
   "execution_count": 51,
   "metadata": {},
   "outputs": [
    {
     "name": "stderr",
     "output_type": "stream",
     "text": [
      "Number of controls: 143\n",
      "Number of cases   : 208\n"
     ]
    }
   ],
   "source": [
    "n_controls <- length(metadata$sample_id[metadata$status == \"control\"])\n",
    "n_cases    <- length(metadata$sample_id[metadata$status == \"case\"])\n",
    "\n",
    "message(\"Number of controls: \", n_controls, appendLF = FALSE)\n",
    "message(\"Number of cases   : \", n_cases   , appendLF = FALSE) "
   ]
  },
  {
   "cell_type": "code",
   "execution_count": 75,
   "metadata": {},
   "outputs": [
    {
     "name": "stdout",
     "output_type": "stream",
     "text": [
      "../data/accession_N351.list"
     ]
    }
   ],
   "source": [
    "# create the accession list\n",
    "\n",
    "data.table::fwrite(as.data.frame(metadata$sample_id), \n",
    "                   file = paste0(savedir, \"accession_N351.list\") , \n",
    "                   col.names = FALSE, \n",
    "                   row.names = FALSE)\n",
    "cat(list.files(path =  \"../data\", \n",
    "               full.names = TRUE,\n",
    "               pattern = \"*accession_N351.list\"))"
   ]
  },
  {
   "cell_type": "code",
   "execution_count": 76,
   "metadata": {},
   "outputs": [
    {
     "name": "stdout",
     "output_type": "stream",
     "text": [
      "../data/all_unique_controls_vs_all_cases__Nctrl_143__Ncases_208.csv"
     ]
    }
   ],
   "source": [
    "# write in a file the all vs all contrast metadata table\n",
    "data.table::fwrite( toWrite, file = paste0( savedir, \n",
    "                                           \"all_unique_controls_vs_all_cases\", \n",
    "                                           \"__Nctrl_\", n_controls ,\n",
    "                                           \"__Ncases_\", n_cases, \n",
    "                                           \".csv\") , \n",
    "                   sep = \",\", col.names = TRUE, row.names = FALSE)\n",
    "\n",
    "cat(list.files(path =  \"../data\", \n",
    "               full.names = TRUE,\n",
    "               pattern = \"*all_unique_controls_vs_all_cases*\"))"
   ]
  },
  {
   "cell_type": "markdown",
   "metadata": {},
   "source": [
    "Finally let's list all the contrast metadata files (we expect 50, 49 contrasts + 1 all vs all)"
   ]
  },
  {
   "cell_type": "code",
   "execution_count": 63,
   "metadata": {},
   "outputs": [
    {
     "data": {
      "text/html": [
       "50"
      ],
      "text/latex": [
       "50"
      ],
      "text/markdown": [
       "50"
      ],
      "text/plain": [
       "[1] 50"
      ]
     },
     "metadata": {},
     "output_type": "display_data"
    }
   ],
   "source": [
    "metadata_files <- list.files(path = savedir,pattern = \"*__Nctrl_*\")\n",
    "length(metadata_files)"
   ]
  },
  {
   "cell_type": "markdown",
   "metadata": {},
   "source": [
    "# Step 4. Make the created files contrast metadata files available\n",
    "\n",
    "We can use any of the following paths with Nextflow:\n",
    "\n",
    "1. **`my/path/only/I/have/access/to`**           (local not recommended unless in an HPC environment)\n",
    "2. **`https://`**  \n",
    "3. **`s3://`**  (AWS)\n",
    "4. **`gs://`**  (Google Cloud Platform)\n",
    "\n",
    "I opted for option 2. and for keeping the input data in the same place as the pipeline, I once again opted for the heuristic suggested by the authors of the R package `ropensci/piggyback`. I uploaded the files in a release in the pipeline repository, under the tag name `SRA`.\n",
    "\n",
    "This can be found here:<br>\n",
    "https://github.com/TheJacksonLaboratory/coronavirus-nf/releases/tag/SRA\n",
    "\n",
    "All the files can now be accessible in the url with the pattern:\n",
    "\n",
    "```console\n",
    "https://github.com/TheJacksonLaboratory/coronavirus-nf/releases/download/SRA/<file_basename>\n",
    "```"
   ]
  },
  {
   "cell_type": "markdown",
   "metadata": {},
   "source": [
    "# Step 5. Use the available links to generate the input for **`--hbadeals_metadata`**\n"
   ]
  },
  {
   "cell_type": "markdown",
   "metadata": {},
   "source": [
    "We will now use the list of files that we saved in the variable 'metadata_files' in **Step 3**."
   ]
  },
  {
   "cell_type": "code",
   "execution_count": 66,
   "metadata": {},
   "outputs": [
    {
     "name": "stdout",
     "output_type": "stream",
     "text": [
      "all_unique_controls_vs_all_cases__Nctrl_143__Ncases_208.csv\n",
      "SRP_040070_MRC_5_High_MOI_MERS_n_a_24_h_cohort_7__Nctrl_6__Ncases_6.csv\n",
      "SRP_040070_MRC_5_High_MOI_MERS_n_a_48_h_cohort_9__Nctrl_6__Ncases_4.csv\n"
     ]
    }
   ],
   "source": [
    "cat(metadata_files[1:3], sep = \"\\n\")"
   ]
  },
  {
   "cell_type": "code",
   "execution_count": 67,
   "metadata": {},
   "outputs": [],
   "source": [
    "url <- paste0(\"https://github.com/TheJacksonLaboratory/coronavirus-nf/releases/download/SRA/\", metadata_files)"
   ]
  },
  {
   "cell_type": "code",
   "execution_count": 68,
   "metadata": {},
   "outputs": [
    {
     "name": "stdout",
     "output_type": "stream",
     "text": [
      "https://github.com/TheJacksonLaboratory/coronavirus-nf/releases/download/SRA/all_unique_controls_vs_all_cases__Nctrl_143__Ncases_208.csv\n",
      "https://github.com/TheJacksonLaboratory/coronavirus-nf/releases/download/SRA/SRP_040070_MRC_5_High_MOI_MERS_n_a_24_h_cohort_7__Nctrl_6__Ncases_6.csv\n",
      "https://github.com/TheJacksonLaboratory/coronavirus-nf/releases/download/SRA/SRP_040070_MRC_5_High_MOI_MERS_n_a_48_h_cohort_9__Nctrl_6__Ncases_4.csv\n"
     ]
    }
   ],
   "source": [
    "cat(url[1:3], sep = \"\\n\")"
   ]
  },
  {
   "cell_type": "code",
   "execution_count": 82,
   "metadata": {},
   "outputs": [],
   "source": [
    "metadata <- data.frame(metadata_files, url)\n",
    "colnames(metadata) <- c(\"contrast\",\"metadata_file\")"
   ]
  },
  {
   "cell_type": "code",
   "execution_count": 83,
   "metadata": {},
   "outputs": [
    {
     "data": {
      "text/html": [
       "<table>\n",
       "<caption>A data.frame: 2 × 2</caption>\n",
       "<thead>\n",
       "\t<tr><th></th><th scope=col>contrast</th><th scope=col>metadata_file</th></tr>\n",
       "\t<tr><th></th><th scope=col>&lt;fct&gt;</th><th scope=col>&lt;fct&gt;</th></tr>\n",
       "</thead>\n",
       "<tbody>\n",
       "\t<tr><th scope=row>1</th><td>all_unique_controls_vs_all_cases__Nctrl_143__Ncases_208.csv            </td><td>https://github.com/TheJacksonLaboratory/coronavirus-nf/releases/download/SRA/all_unique_controls_vs_all_cases__Nctrl_143__Ncases_208.csv            </td></tr>\n",
       "\t<tr><th scope=row>2</th><td>SRP_040070_MRC_5_High_MOI_MERS_n_a_24_h_cohort_7__Nctrl_6__Ncases_6.csv</td><td>https://github.com/TheJacksonLaboratory/coronavirus-nf/releases/download/SRA/SRP_040070_MRC_5_High_MOI_MERS_n_a_24_h_cohort_7__Nctrl_6__Ncases_6.csv</td></tr>\n",
       "</tbody>\n",
       "</table>\n"
      ],
      "text/latex": [
       "A data.frame: 2 × 2\n",
       "\\begin{tabular}{r|ll}\n",
       "  & contrast & metadata\\_file\\\\\n",
       "  & <fct> & <fct>\\\\\n",
       "\\hline\n",
       "\t1 & all\\_unique\\_controls\\_vs\\_all\\_cases\\_\\_Nctrl\\_143\\_\\_Ncases\\_208.csv             & https://github.com/TheJacksonLaboratory/coronavirus-nf/releases/download/SRA/all\\_unique\\_controls\\_vs\\_all\\_cases\\_\\_Nctrl\\_143\\_\\_Ncases\\_208.csv            \\\\\n",
       "\t2 & SRP\\_040070\\_MRC\\_5\\_High\\_MOI\\_MERS\\_n\\_a\\_24\\_h\\_cohort\\_7\\_\\_Nctrl\\_6\\_\\_Ncases\\_6.csv & https://github.com/TheJacksonLaboratory/coronavirus-nf/releases/download/SRA/SRP\\_040070\\_MRC\\_5\\_High\\_MOI\\_MERS\\_n\\_a\\_24\\_h\\_cohort\\_7\\_\\_Nctrl\\_6\\_\\_Ncases\\_6.csv\\\\\n",
       "\\end{tabular}\n"
      ],
      "text/markdown": [
       "\n",
       "A data.frame: 2 × 2\n",
       "\n",
       "| <!--/--> | contrast &lt;fct&gt; | metadata_file &lt;fct&gt; |\n",
       "|---|---|---|\n",
       "| 1 | all_unique_controls_vs_all_cases__Nctrl_143__Ncases_208.csv             | https://github.com/TheJacksonLaboratory/coronavirus-nf/releases/download/SRA/all_unique_controls_vs_all_cases__Nctrl_143__Ncases_208.csv             |\n",
       "| 2 | SRP_040070_MRC_5_High_MOI_MERS_n_a_24_h_cohort_7__Nctrl_6__Ncases_6.csv | https://github.com/TheJacksonLaboratory/coronavirus-nf/releases/download/SRA/SRP_040070_MRC_5_High_MOI_MERS_n_a_24_h_cohort_7__Nctrl_6__Ncases_6.csv |\n",
       "\n"
      ],
      "text/plain": [
       "  contrast                                                               \n",
       "1 all_unique_controls_vs_all_cases__Nctrl_143__Ncases_208.csv            \n",
       "2 SRP_040070_MRC_5_High_MOI_MERS_n_a_24_h_cohort_7__Nctrl_6__Ncases_6.csv\n",
       "  metadata_file                                                                                                                                       \n",
       "1 https://github.com/TheJacksonLaboratory/coronavirus-nf/releases/download/SRA/all_unique_controls_vs_all_cases__Nctrl_143__Ncases_208.csv            \n",
       "2 https://github.com/TheJacksonLaboratory/coronavirus-nf/releases/download/SRA/SRP_040070_MRC_5_High_MOI_MERS_n_a_24_h_cohort_7__Nctrl_6__Ncases_6.csv"
      ]
     },
     "metadata": {},
     "output_type": "display_data"
    }
   ],
   "source": [
    "head(metadata, 2)"
   ]
  },
  {
   "cell_type": "markdown",
   "metadata": {},
   "source": [
    "Save to a file and then upload all to the GitHub release:"
   ]
  },
  {
   "cell_type": "code",
   "execution_count": 84,
   "metadata": {},
   "outputs": [
    {
     "name": "stdout",
     "output_type": "stream",
     "text": [
      "../data/sra_masterfile_n351.csv"
     ]
    }
   ],
   "source": [
    "data.table::fwrite( metadata, \n",
    "                   file = paste0( savedir,\"sra_masterfile_n351.csv\"),\n",
    "                   sep = \",\", \n",
    "                   col.names = TRUE,\n",
    "                   row.names = FALSE)\n",
    "\n",
    "cat(list.files(path =  \"../data\", \n",
    "               full.names = TRUE,\n",
    "               pattern = \"*sra_masterfile_n351.csv*\"))"
   ]
  },
  {
   "cell_type": "markdown",
   "metadata": {},
   "source": [
    "# Step 6: Create a release in the GitHub repo to host the data in the binaries section"
   ]
  },
  {
   "cell_type": "markdown",
   "metadata": {},
   "source": [
    "The release which has the input data we need for running the pipeline can be found here:<br>\n",
    "https://github.com/TheJacksonLaboratory/coronavirus-nf/releases/tag/SRA"
   ]
  },
  {
   "cell_type": "markdown",
   "metadata": {},
   "source": [
    "We will run the Nextflow pipeline with these arguments:\n",
    "\n",
    "```groovy\n",
    "nextflow run main.nf \\\n",
    "--accesionList https://github.com/TheJacksonLaboratory/coronavirus-nf/releases/download/SRA/accession_N351.list \\\n",
    "--hbadeals_metadata https://github.com/TheJacksonLaboratory/coronavirus-nf/releases/download/SRA/sra_masterfile_n351.csv \\\n",
    "-- ...etc\n",
    "\n",
    "```"
   ]
  },
  {
   "cell_type": "markdown",
   "metadata": {},
   "source": [
    "# Checksums of files with the sha256 algorithm "
   ]
  },
  {
   "cell_type": "code",
   "execution_count": 89,
   "metadata": {},
   "outputs": [
    {
     "name": "stderr",
     "output_type": "stream",
     "text": [
      "Generating sha256 checksums of the files in the `..data/` directory .. \n",
      "\n"
     ]
    },
    {
     "data": {
      "text/html": [],
      "text/latex": [],
      "text/markdown": [],
      "text/plain": [
       "character(0)"
      ]
     },
     "metadata": {},
     "output_type": "display_data"
    },
    {
     "name": "stderr",
     "output_type": "stream",
     "text": [
      "Done!\n",
      "\n",
      "\n"
     ]
    },
    {
     "data": {
      "text/html": [
       "<table>\n",
       "<caption>A data.table: 53 × 2</caption>\n",
       "<thead>\n",
       "\t<tr><th scope=col>sha256sum</th><th scope=col>file</th></tr>\n",
       "\t<tr><th scope=col>&lt;chr&gt;</th><th scope=col>&lt;chr&gt;</th></tr>\n",
       "</thead>\n",
       "<tbody>\n",
       "\t<tr><td>ea1600b9fb33e2e5c582a389df987ed802b9a2290c3491f5db1a3cc906de04a1</td><td>SRP_040070_MRC_5_High_MOI_MERS_n_a_24_h_cohort_7__Nctrl_6__Ncases_6.csv</td></tr>\n",
       "\t<tr><td>eb58677eff523b64fd1941125f20be0037ecb78cd812d1ddd1ffe1d5f96b1868</td><td>SRP_040070_MRC_5_High_MOI_MERS_n_a_48_h_cohort_9__Nctrl_6__Ncases_4.csv</td></tr>\n",
       "\t<tr><td>5598074469b3b712ff90ba4dc1f97aae08592fd07620015b8359a626e9402c34</td><td>SRP_040070_MRC_5_High_MOI_SARS_n_a_24_h_cohort_3__Nctrl_6__Ncases_9.csv</td></tr>\n",
       "\t<tr><td>705212fb2c25d028a6dc19dfe5092152d2e3a7f590bf63964e403f00931da467</td><td>SRP_040070_MRC_5_High_MOI_SARS_n_a_48_h_cohort_5__Nctrl_6__Ncases_4.csv</td></tr>\n",
       "\t<tr><td>3fa4417422ec578701f52b0afe2657bde06d83c712300e4d359a0d29ce9fe13e</td><td>SRP_040070_MRC_5_MERS_Gleevec_24_h_cohort_14__Nctrl_6__Ncases_8.csv    </td></tr>\n",
       "\t<tr><td>fb37f1aa2ba7d91ed1457a8b9cad39d3682e207fc95d48fe9456c94462534b08</td><td>SRP_040070_MRC_5_MERS_Gleevec_48_h_cohort_15__Nctrl_5__Ncases_8.csv    </td></tr>\n",
       "\t<tr><td>38745691c0d20938ab602b0f4c8c9574bcf94a2166f0c0bbf9eee47e6237960d</td><td>SRP_040070_MRC_5_MERS_IF_Nbeta_24_h_cohort_16__Nctrl_6__Ncases_8.csv   </td></tr>\n",
       "\t<tr><td>341c169aa4d4ce37566db127db3a7159b7e88a17f73587b27034041e2c0de99a</td><td>SRP_040070_MRC_5_MERS_IF_Nbeta_48_h_cohort_17__Nctrl_5__Ncases_8.csv   </td></tr>\n",
       "\t<tr><td>87fddb4ecd9edc43712fd8d47cb0a7b8d6db1487331fa3da483584824abe9782</td><td>SRP_040070_MRC_5_SARS_Gleevec_24_h_cohort_12__Nctrl_9__Ncases_4.csv    </td></tr>\n",
       "\t<tr><td>e025e19d867fa5803521ca89a8110995eb5fe8aa4162c5a2269b2495dfeec507</td><td>SRP_040070_MRC_5_SARS_Gleevec_48_h_cohort_13__Nctrl_5__Ncases_4.csv    </td></tr>\n",
       "\t<tr><td>1b6113cb78b1067df84de36a246b0c541f54e7281111e483106db21cab42c8ff</td><td>SRP_040070_MRC_5_SARS_IF_Nbeta_24_h_cohort_10__Nctrl_9__Ncases_4.csv   </td></tr>\n",
       "\t<tr><td>db4f4eeec456a6ed59eab0890c9bf4f18d80ba8383a72b9d5eaab8434bdc09b6</td><td>SRP_040070_MRC_5_SARS_IF_Nbeta_48_h_cohort_11__Nctrl_5__Ncases_4.csv   </td></tr>\n",
       "\t<tr><td>825875f20ca1e7038f385847be48379fe6b8351b92d0f1d6a7dc9b0641fdab1e</td><td>SRP_040070_MRC_5_low_MOI_MERS_n_a_24_h_cohort_6__Nctrl_6__Ncases_6.csv </td></tr>\n",
       "\t<tr><td>4e2062adeb63292aa963ee7e02b930f1e677858cb15c930632feb84f28a8ea31</td><td>SRP_040070_MRC_5_low_MOI_MERS_n_a_48_h_cohort_8__Nctrl_6__Ncases_5.csv </td></tr>\n",
       "\t<tr><td>72a421c96c1a91049137e027a572c4d2e902fd07c02c31be3efa12e49e13da87</td><td>SRP_040070_MRC_5_low_MOI_SARS_n_a_24_h_cohort_2__Nctrl_6__Ncases_9.csv </td></tr>\n",
       "\t<tr><td>02889ff4aaf7818849073e67a1399527dd96f9f5e55f0bb419ce592f2f16b3dc</td><td>SRP_040070_MRC_5_low_MOI_SARS_n_a_48_h_cohort_4__Nctrl_6__Ncases_5.csv </td></tr>\n",
       "\t<tr><td>afe66a618e3f9f388fbcc3c55d96ac2c3caa4c6f0e36ecc7385a0fd693a7abf7</td><td>SRP_076102_flu_A_2_h_cohort_18__Nctrl_2__Ncases_2.csv                  </td></tr>\n",
       "\t<tr><td>9cbecde3f70f89ff1fcb4876c5cbb10bcd0b465d2d2f3468415eb856da1329aa</td><td>SRP_076102_flu_A_4_h_cohort_19__Nctrl_2__Ncases_2.csv                  </td></tr>\n",
       "\t<tr><td>a66d40c296fa881ce9f40e6a60b285561c45e7888f997d2d5f4cea19032f022f</td><td>SRP_076102_flu_A_8_h_cohort_20__Nctrl_2__Ncases_2.csv                  </td></tr>\n",
       "\t<tr><td>f1a076f6cb8da285c89f0e0813ba1a563cef8237e6f6a336d10ebd597c423ab1</td><td>SRP_091886_H_1_N_1_03_h_cohort_21__Nctrl_6__Ncases_2.csv               </td></tr>\n",
       "\t<tr><td>c2bed0da62d321162ebc554d86f62801c11aee46bbd6588b2eab1c3b41253ba8</td><td>SRP_091886_H_1_N_1_06_h_cohort_22__Nctrl_6__Ncases_2.csv               </td></tr>\n",
       "\t<tr><td>dd65570023c4cd4309f43296af7408bfb146ac6c1388f818dbcc4bf3e2e56c19</td><td>SRP_091886_H_1_N_1_12_h_cohort_23__Nctrl_6__Ncases_2.csv               </td></tr>\n",
       "\t<tr><td>e2c561d1f672ff645dcd9ee054a84dddd3ce49e0662fb3b407c3dff4341f289d</td><td>SRP_091886_H_1_N_1_18_h_cohort_24__Nctrl_6__Ncases_2.csv               </td></tr>\n",
       "\t<tr><td>4295800eb0e525c55322a738e7fd8806ebcd7347fd6ed099d681b92d5fa76554</td><td>SRP_091886_H_3_N_2_03_h_cohort_25__Nctrl_6__Ncases_2.csv               </td></tr>\n",
       "\t<tr><td>a58cf689bc9e541a35634b811542deea35f99c58b065db5ceb85c9f9bcdd7de2</td><td>SRP_091886_H_3_N_2_06_h_cohort_26__Nctrl_6__Ncases_2.csv               </td></tr>\n",
       "\t<tr><td>059db7c17111cec8b4377421737edf1d23b95aeca12ef2cf2dc63bf71d2ea683</td><td>SRP_091886_H_3_N_2_12_h_cohort_27__Nctrl_6__Ncases_2.csv               </td></tr>\n",
       "\t<tr><td>fdae617160fe2e1ae43477071ab16e0c799835031df156bfc2f6e835c7b36ee0</td><td>SRP_091886_H_3_N_2_18_h_cohort_28__Nctrl_6__Ncases_2.csv               </td></tr>\n",
       "\t<tr><td>2ad237ae37f123c57e7006a28cf0d13aa84aeb35d621e17b2edb997f7ce6473e</td><td>SRP_091886_H_5_N_1_03_h_cohort_29__Nctrl_6__Ncases_2.csv               </td></tr>\n",
       "\t<tr><td>cf1fb36e3426467c87d794069aa5803cd7ecc209985482a4194f5d3987b790ee</td><td>SRP_091886_H_5_N_1_06_h_cohort_30__Nctrl_6__Ncases_2.csv               </td></tr>\n",
       "\t<tr><td>9ac7d2def6a5a183daac0fd41a72c49e413b645a3644e152c251f516afa4842c</td><td>SRP_091886_H_5_N_1_12_h_cohort_31__Nctrl_6__Ncases_2.csv               </td></tr>\n",
       "\t<tr><td>a314fcf71a7c4680d06108d16368804eafc00b57a1be6f659344b53c8b4d500d</td><td>SRP_091886_H_5_N_1_18_h_cohort_32__Nctrl_6__Ncases_2.csv               </td></tr>\n",
       "\t<tr><td>f0936da0c471ec75fe90cfd9d5d11e47524a2992baf95d07160fc158bd8f56c1</td><td>SRP_118721_inf_A_lariciresinol_high_cohort_35__Nctrl_1__Ncases_2.csv   </td></tr>\n",
       "\t<tr><td>639521dad7753830982125e5f35d3bbd8456a01874f968108178994344e09dea</td><td>SRP_118721_inf_A_lariciresinol_low_cohort_34__Nctrl_1__Ncases_2.csv    </td></tr>\n",
       "\t<tr><td>b3f87fbba304ec17a7236602595125a15077429568a512d3984a17ae2ad33618</td><td>SRP_118721_inf_A_no_treatment_cohort_33__Nctrl_1__Ncases_1.csv         </td></tr>\n",
       "\t<tr><td>23873fb5f6fb6f60d9732e8f49ba583ae1bbf47dbbb17467d16ce2ef896bc353</td><td>SRP_170549_AM_580_cohort_37__Nctrl_3__Ncases_3.csv                     </td></tr>\n",
       "\t<tr><td>15b605fef5acb748b0a981009864eb452e06cb328adedfefcdf11e53e9f0f99a</td><td>SRP_170549_MERS_cohort_36__Nctrl_3__Ncases_3.csv                       </td></tr>\n",
       "\t<tr><td>6f307d45d9b2cb7aeaa612fe293e99a02b3a5f204fee74e99d4e13c4ff6eb700</td><td>SRP_227272_MERS_cohort_38__Nctrl_6__Ncases_6.csv                       </td></tr>\n",
       "\t<tr><td>d6ff06711f913d40a58ee7136c6e69c6fe3bb56d0d243da55ba364b88b8944b1</td><td>SRP_230823_H_5_N_1_infected_cohort_1__Nctrl_6__Ncases_4.csv            </td></tr>\n",
       "\t<tr><td>1f891faa962de230fddc6af4de9942a5dded6da860194453411ed234d8d3a1c7</td><td>SRP_253951_A_549_IAV_0_h_cohort_43__Nctrl_28__Ncases_8.csv             </td></tr>\n",
       "\t<tr><td>5e897d53e70b48de0bb9600f4a9dfa480d196cb9822ff73b24fc6b9958a5f52a</td><td>SRP_253951_A_549_RSV_0_h_cohort_41__Nctrl_28__Ncases_8.csv             </td></tr>\n",
       "\t<tr><td>63cec04c0d2f760d5f5eab53e1e10f3e3970892df7eb58ce6c39f48c89527be7</td><td>SRP_253951_A_549_RSV_24_h_cohort_42__Nctrl_6__Ncases_3.csv             </td></tr>\n",
       "\t<tr><td>7a5113f4cf96a622e0b143976e59a15ac3ff88a55041b3df4a8a825300244b20</td><td>SRP_253951_A_549_covid_0_h_cohort_44__Nctrl_28__Ncases_12.csv          </td></tr>\n",
       "\t<tr><td>6e5ab6aa71bab17e32f7a6a04228680897e63d1036756a3ed58ad731a4172e25</td><td>SRP_253951_A_549_covid_24_h_cohort_45__Nctrl_6__Ncases_3.csv           </td></tr>\n",
       "\t<tr><td>300c738a559e1b7327e1596c897c051b9f6ff678e5ceec37b9bae6d725c9d925</td><td>SRP_253951_A_549_covid_ACE_2_24_h_cohort_49__Nctrl_3__Ncases_3.csv     </td></tr>\n",
       "\t<tr><td>78cbb78ff97ded1b4099ade23f8ed6e542324ade98cd591c316da95ab76b9d00</td><td>SRP_253951_NHBE_covid_0_h_cohort_48__Nctrl_12__Ncases_12.csv           </td></tr>\n",
       "\t<tr><td>f667c1af7468baaeb4638e6cde31a8f7882427a2ba67ec728a1f4fec78a032b8</td><td>SRP_253951_calu_3_covid_24_h_cohort_46__Nctrl_3__Ncases_3.csv          </td></tr>\n",
       "\t<tr><td>656f4566ae0614a67de1b83967fe35f3100c062699a27e3a43099b5f8f36f6cd</td><td>SRP_253951_covid_lung_biopsy_cohort_47__Nctrl_8__Ncases_8.csv          </td></tr>\n",
       "\t<tr><td>62729f0fc58c0d6f10fdeebcb8aad8b31666512c118531db91c538c99e9d476e</td><td>SRP_254688_covid_sputum_cohort_39__Nctrl_4__Ncases_1.csv               </td></tr>\n",
       "\t<tr><td>920442b7005afac0bfb8aca22b985e1e8474fa7e5b6be4a315c1f324dfdc9bcf</td><td>SRP_254688_covid_sputum_cohort_40__Nctrl_5__Ncases_1.csv               </td></tr>\n",
       "\t<tr><td>7e0f06ed1e83570ed2dd0a9885f6831a34f4a631fe0bc06d46c5cbf098484ab3</td><td>accession_N351.list                                                    </td></tr>\n",
       "\t<tr><td>300c738a559e1b7327e1596c897c051b9f6ff678e5ceec37b9bae6d725c9d925</td><td>all_unique_controls_vs_all_cases__Nctrl_143__Ncases_208.csv            </td></tr>\n",
       "\t<tr><td>26fcdfb2c71143f776c5a9700e353d892b638fa7c95db62a542db7870814c9ce</td><td>sha256sums.txt                                                         </td></tr>\n",
       "\t<tr><td>5b5ba97435540f91e201329fb5f88f80ace6f74ed47d2b1bd0aadb1d60e03529</td><td>sra_masterfile_n351.csv                                                </td></tr>\n",
       "</tbody>\n",
       "</table>\n"
      ],
      "text/latex": [
       "A data.table: 53 × 2\n",
       "\\begin{tabular}{ll}\n",
       " sha256sum & file\\\\\n",
       " <chr> & <chr>\\\\\n",
       "\\hline\n",
       "\t ea1600b9fb33e2e5c582a389df987ed802b9a2290c3491f5db1a3cc906de04a1 & SRP\\_040070\\_MRC\\_5\\_High\\_MOI\\_MERS\\_n\\_a\\_24\\_h\\_cohort\\_7\\_\\_Nctrl\\_6\\_\\_Ncases\\_6.csv\\\\\n",
       "\t eb58677eff523b64fd1941125f20be0037ecb78cd812d1ddd1ffe1d5f96b1868 & SRP\\_040070\\_MRC\\_5\\_High\\_MOI\\_MERS\\_n\\_a\\_48\\_h\\_cohort\\_9\\_\\_Nctrl\\_6\\_\\_Ncases\\_4.csv\\\\\n",
       "\t 5598074469b3b712ff90ba4dc1f97aae08592fd07620015b8359a626e9402c34 & SRP\\_040070\\_MRC\\_5\\_High\\_MOI\\_SARS\\_n\\_a\\_24\\_h\\_cohort\\_3\\_\\_Nctrl\\_6\\_\\_Ncases\\_9.csv\\\\\n",
       "\t 705212fb2c25d028a6dc19dfe5092152d2e3a7f590bf63964e403f00931da467 & SRP\\_040070\\_MRC\\_5\\_High\\_MOI\\_SARS\\_n\\_a\\_48\\_h\\_cohort\\_5\\_\\_Nctrl\\_6\\_\\_Ncases\\_4.csv\\\\\n",
       "\t 3fa4417422ec578701f52b0afe2657bde06d83c712300e4d359a0d29ce9fe13e & SRP\\_040070\\_MRC\\_5\\_MERS\\_Gleevec\\_24\\_h\\_cohort\\_14\\_\\_Nctrl\\_6\\_\\_Ncases\\_8.csv    \\\\\n",
       "\t fb37f1aa2ba7d91ed1457a8b9cad39d3682e207fc95d48fe9456c94462534b08 & SRP\\_040070\\_MRC\\_5\\_MERS\\_Gleevec\\_48\\_h\\_cohort\\_15\\_\\_Nctrl\\_5\\_\\_Ncases\\_8.csv    \\\\\n",
       "\t 38745691c0d20938ab602b0f4c8c9574bcf94a2166f0c0bbf9eee47e6237960d & SRP\\_040070\\_MRC\\_5\\_MERS\\_IF\\_Nbeta\\_24\\_h\\_cohort\\_16\\_\\_Nctrl\\_6\\_\\_Ncases\\_8.csv   \\\\\n",
       "\t 341c169aa4d4ce37566db127db3a7159b7e88a17f73587b27034041e2c0de99a & SRP\\_040070\\_MRC\\_5\\_MERS\\_IF\\_Nbeta\\_48\\_h\\_cohort\\_17\\_\\_Nctrl\\_5\\_\\_Ncases\\_8.csv   \\\\\n",
       "\t 87fddb4ecd9edc43712fd8d47cb0a7b8d6db1487331fa3da483584824abe9782 & SRP\\_040070\\_MRC\\_5\\_SARS\\_Gleevec\\_24\\_h\\_cohort\\_12\\_\\_Nctrl\\_9\\_\\_Ncases\\_4.csv    \\\\\n",
       "\t e025e19d867fa5803521ca89a8110995eb5fe8aa4162c5a2269b2495dfeec507 & SRP\\_040070\\_MRC\\_5\\_SARS\\_Gleevec\\_48\\_h\\_cohort\\_13\\_\\_Nctrl\\_5\\_\\_Ncases\\_4.csv    \\\\\n",
       "\t 1b6113cb78b1067df84de36a246b0c541f54e7281111e483106db21cab42c8ff & SRP\\_040070\\_MRC\\_5\\_SARS\\_IF\\_Nbeta\\_24\\_h\\_cohort\\_10\\_\\_Nctrl\\_9\\_\\_Ncases\\_4.csv   \\\\\n",
       "\t db4f4eeec456a6ed59eab0890c9bf4f18d80ba8383a72b9d5eaab8434bdc09b6 & SRP\\_040070\\_MRC\\_5\\_SARS\\_IF\\_Nbeta\\_48\\_h\\_cohort\\_11\\_\\_Nctrl\\_5\\_\\_Ncases\\_4.csv   \\\\\n",
       "\t 825875f20ca1e7038f385847be48379fe6b8351b92d0f1d6a7dc9b0641fdab1e & SRP\\_040070\\_MRC\\_5\\_low\\_MOI\\_MERS\\_n\\_a\\_24\\_h\\_cohort\\_6\\_\\_Nctrl\\_6\\_\\_Ncases\\_6.csv \\\\\n",
       "\t 4e2062adeb63292aa963ee7e02b930f1e677858cb15c930632feb84f28a8ea31 & SRP\\_040070\\_MRC\\_5\\_low\\_MOI\\_MERS\\_n\\_a\\_48\\_h\\_cohort\\_8\\_\\_Nctrl\\_6\\_\\_Ncases\\_5.csv \\\\\n",
       "\t 72a421c96c1a91049137e027a572c4d2e902fd07c02c31be3efa12e49e13da87 & SRP\\_040070\\_MRC\\_5\\_low\\_MOI\\_SARS\\_n\\_a\\_24\\_h\\_cohort\\_2\\_\\_Nctrl\\_6\\_\\_Ncases\\_9.csv \\\\\n",
       "\t 02889ff4aaf7818849073e67a1399527dd96f9f5e55f0bb419ce592f2f16b3dc & SRP\\_040070\\_MRC\\_5\\_low\\_MOI\\_SARS\\_n\\_a\\_48\\_h\\_cohort\\_4\\_\\_Nctrl\\_6\\_\\_Ncases\\_5.csv \\\\\n",
       "\t afe66a618e3f9f388fbcc3c55d96ac2c3caa4c6f0e36ecc7385a0fd693a7abf7 & SRP\\_076102\\_flu\\_A\\_2\\_h\\_cohort\\_18\\_\\_Nctrl\\_2\\_\\_Ncases\\_2.csv                  \\\\\n",
       "\t 9cbecde3f70f89ff1fcb4876c5cbb10bcd0b465d2d2f3468415eb856da1329aa & SRP\\_076102\\_flu\\_A\\_4\\_h\\_cohort\\_19\\_\\_Nctrl\\_2\\_\\_Ncases\\_2.csv                  \\\\\n",
       "\t a66d40c296fa881ce9f40e6a60b285561c45e7888f997d2d5f4cea19032f022f & SRP\\_076102\\_flu\\_A\\_8\\_h\\_cohort\\_20\\_\\_Nctrl\\_2\\_\\_Ncases\\_2.csv                  \\\\\n",
       "\t f1a076f6cb8da285c89f0e0813ba1a563cef8237e6f6a336d10ebd597c423ab1 & SRP\\_091886\\_H\\_1\\_N\\_1\\_03\\_h\\_cohort\\_21\\_\\_Nctrl\\_6\\_\\_Ncases\\_2.csv               \\\\\n",
       "\t c2bed0da62d321162ebc554d86f62801c11aee46bbd6588b2eab1c3b41253ba8 & SRP\\_091886\\_H\\_1\\_N\\_1\\_06\\_h\\_cohort\\_22\\_\\_Nctrl\\_6\\_\\_Ncases\\_2.csv               \\\\\n",
       "\t dd65570023c4cd4309f43296af7408bfb146ac6c1388f818dbcc4bf3e2e56c19 & SRP\\_091886\\_H\\_1\\_N\\_1\\_12\\_h\\_cohort\\_23\\_\\_Nctrl\\_6\\_\\_Ncases\\_2.csv               \\\\\n",
       "\t e2c561d1f672ff645dcd9ee054a84dddd3ce49e0662fb3b407c3dff4341f289d & SRP\\_091886\\_H\\_1\\_N\\_1\\_18\\_h\\_cohort\\_24\\_\\_Nctrl\\_6\\_\\_Ncases\\_2.csv               \\\\\n",
       "\t 4295800eb0e525c55322a738e7fd8806ebcd7347fd6ed099d681b92d5fa76554 & SRP\\_091886\\_H\\_3\\_N\\_2\\_03\\_h\\_cohort\\_25\\_\\_Nctrl\\_6\\_\\_Ncases\\_2.csv               \\\\\n",
       "\t a58cf689bc9e541a35634b811542deea35f99c58b065db5ceb85c9f9bcdd7de2 & SRP\\_091886\\_H\\_3\\_N\\_2\\_06\\_h\\_cohort\\_26\\_\\_Nctrl\\_6\\_\\_Ncases\\_2.csv               \\\\\n",
       "\t 059db7c17111cec8b4377421737edf1d23b95aeca12ef2cf2dc63bf71d2ea683 & SRP\\_091886\\_H\\_3\\_N\\_2\\_12\\_h\\_cohort\\_27\\_\\_Nctrl\\_6\\_\\_Ncases\\_2.csv               \\\\\n",
       "\t fdae617160fe2e1ae43477071ab16e0c799835031df156bfc2f6e835c7b36ee0 & SRP\\_091886\\_H\\_3\\_N\\_2\\_18\\_h\\_cohort\\_28\\_\\_Nctrl\\_6\\_\\_Ncases\\_2.csv               \\\\\n",
       "\t 2ad237ae37f123c57e7006a28cf0d13aa84aeb35d621e17b2edb997f7ce6473e & SRP\\_091886\\_H\\_5\\_N\\_1\\_03\\_h\\_cohort\\_29\\_\\_Nctrl\\_6\\_\\_Ncases\\_2.csv               \\\\\n",
       "\t cf1fb36e3426467c87d794069aa5803cd7ecc209985482a4194f5d3987b790ee & SRP\\_091886\\_H\\_5\\_N\\_1\\_06\\_h\\_cohort\\_30\\_\\_Nctrl\\_6\\_\\_Ncases\\_2.csv               \\\\\n",
       "\t 9ac7d2def6a5a183daac0fd41a72c49e413b645a3644e152c251f516afa4842c & SRP\\_091886\\_H\\_5\\_N\\_1\\_12\\_h\\_cohort\\_31\\_\\_Nctrl\\_6\\_\\_Ncases\\_2.csv               \\\\\n",
       "\t a314fcf71a7c4680d06108d16368804eafc00b57a1be6f659344b53c8b4d500d & SRP\\_091886\\_H\\_5\\_N\\_1\\_18\\_h\\_cohort\\_32\\_\\_Nctrl\\_6\\_\\_Ncases\\_2.csv               \\\\\n",
       "\t f0936da0c471ec75fe90cfd9d5d11e47524a2992baf95d07160fc158bd8f56c1 & SRP\\_118721\\_inf\\_A\\_lariciresinol\\_high\\_cohort\\_35\\_\\_Nctrl\\_1\\_\\_Ncases\\_2.csv   \\\\\n",
       "\t 639521dad7753830982125e5f35d3bbd8456a01874f968108178994344e09dea & SRP\\_118721\\_inf\\_A\\_lariciresinol\\_low\\_cohort\\_34\\_\\_Nctrl\\_1\\_\\_Ncases\\_2.csv    \\\\\n",
       "\t b3f87fbba304ec17a7236602595125a15077429568a512d3984a17ae2ad33618 & SRP\\_118721\\_inf\\_A\\_no\\_treatment\\_cohort\\_33\\_\\_Nctrl\\_1\\_\\_Ncases\\_1.csv         \\\\\n",
       "\t 23873fb5f6fb6f60d9732e8f49ba583ae1bbf47dbbb17467d16ce2ef896bc353 & SRP\\_170549\\_AM\\_580\\_cohort\\_37\\_\\_Nctrl\\_3\\_\\_Ncases\\_3.csv                     \\\\\n",
       "\t 15b605fef5acb748b0a981009864eb452e06cb328adedfefcdf11e53e9f0f99a & SRP\\_170549\\_MERS\\_cohort\\_36\\_\\_Nctrl\\_3\\_\\_Ncases\\_3.csv                       \\\\\n",
       "\t 6f307d45d9b2cb7aeaa612fe293e99a02b3a5f204fee74e99d4e13c4ff6eb700 & SRP\\_227272\\_MERS\\_cohort\\_38\\_\\_Nctrl\\_6\\_\\_Ncases\\_6.csv                       \\\\\n",
       "\t d6ff06711f913d40a58ee7136c6e69c6fe3bb56d0d243da55ba364b88b8944b1 & SRP\\_230823\\_H\\_5\\_N\\_1\\_infected\\_cohort\\_1\\_\\_Nctrl\\_6\\_\\_Ncases\\_4.csv            \\\\\n",
       "\t 1f891faa962de230fddc6af4de9942a5dded6da860194453411ed234d8d3a1c7 & SRP\\_253951\\_A\\_549\\_IAV\\_0\\_h\\_cohort\\_43\\_\\_Nctrl\\_28\\_\\_Ncases\\_8.csv             \\\\\n",
       "\t 5e897d53e70b48de0bb9600f4a9dfa480d196cb9822ff73b24fc6b9958a5f52a & SRP\\_253951\\_A\\_549\\_RSV\\_0\\_h\\_cohort\\_41\\_\\_Nctrl\\_28\\_\\_Ncases\\_8.csv             \\\\\n",
       "\t 63cec04c0d2f760d5f5eab53e1e10f3e3970892df7eb58ce6c39f48c89527be7 & SRP\\_253951\\_A\\_549\\_RSV\\_24\\_h\\_cohort\\_42\\_\\_Nctrl\\_6\\_\\_Ncases\\_3.csv             \\\\\n",
       "\t 7a5113f4cf96a622e0b143976e59a15ac3ff88a55041b3df4a8a825300244b20 & SRP\\_253951\\_A\\_549\\_covid\\_0\\_h\\_cohort\\_44\\_\\_Nctrl\\_28\\_\\_Ncases\\_12.csv          \\\\\n",
       "\t 6e5ab6aa71bab17e32f7a6a04228680897e63d1036756a3ed58ad731a4172e25 & SRP\\_253951\\_A\\_549\\_covid\\_24\\_h\\_cohort\\_45\\_\\_Nctrl\\_6\\_\\_Ncases\\_3.csv           \\\\\n",
       "\t 300c738a559e1b7327e1596c897c051b9f6ff678e5ceec37b9bae6d725c9d925 & SRP\\_253951\\_A\\_549\\_covid\\_ACE\\_2\\_24\\_h\\_cohort\\_49\\_\\_Nctrl\\_3\\_\\_Ncases\\_3.csv     \\\\\n",
       "\t 78cbb78ff97ded1b4099ade23f8ed6e542324ade98cd591c316da95ab76b9d00 & SRP\\_253951\\_NHBE\\_covid\\_0\\_h\\_cohort\\_48\\_\\_Nctrl\\_12\\_\\_Ncases\\_12.csv           \\\\\n",
       "\t f667c1af7468baaeb4638e6cde31a8f7882427a2ba67ec728a1f4fec78a032b8 & SRP\\_253951\\_calu\\_3\\_covid\\_24\\_h\\_cohort\\_46\\_\\_Nctrl\\_3\\_\\_Ncases\\_3.csv          \\\\\n",
       "\t 656f4566ae0614a67de1b83967fe35f3100c062699a27e3a43099b5f8f36f6cd & SRP\\_253951\\_covid\\_lung\\_biopsy\\_cohort\\_47\\_\\_Nctrl\\_8\\_\\_Ncases\\_8.csv          \\\\\n",
       "\t 62729f0fc58c0d6f10fdeebcb8aad8b31666512c118531db91c538c99e9d476e & SRP\\_254688\\_covid\\_sputum\\_cohort\\_39\\_\\_Nctrl\\_4\\_\\_Ncases\\_1.csv               \\\\\n",
       "\t 920442b7005afac0bfb8aca22b985e1e8474fa7e5b6be4a315c1f324dfdc9bcf & SRP\\_254688\\_covid\\_sputum\\_cohort\\_40\\_\\_Nctrl\\_5\\_\\_Ncases\\_1.csv               \\\\\n",
       "\t 7e0f06ed1e83570ed2dd0a9885f6831a34f4a631fe0bc06d46c5cbf098484ab3 & accession\\_N351.list                                                    \\\\\n",
       "\t 300c738a559e1b7327e1596c897c051b9f6ff678e5ceec37b9bae6d725c9d925 & all\\_unique\\_controls\\_vs\\_all\\_cases\\_\\_Nctrl\\_143\\_\\_Ncases\\_208.csv            \\\\\n",
       "\t 26fcdfb2c71143f776c5a9700e353d892b638fa7c95db62a542db7870814c9ce & sha256sums.txt                                                         \\\\\n",
       "\t 5b5ba97435540f91e201329fb5f88f80ace6f74ed47d2b1bd0aadb1d60e03529 & sra\\_masterfile\\_n351.csv                                                \\\\\n",
       "\\end{tabular}\n"
      ],
      "text/markdown": [
       "\n",
       "A data.table: 53 × 2\n",
       "\n",
       "| sha256sum &lt;chr&gt; | file &lt;chr&gt; |\n",
       "|---|---|\n",
       "| ea1600b9fb33e2e5c582a389df987ed802b9a2290c3491f5db1a3cc906de04a1 | SRP_040070_MRC_5_High_MOI_MERS_n_a_24_h_cohort_7__Nctrl_6__Ncases_6.csv |\n",
       "| eb58677eff523b64fd1941125f20be0037ecb78cd812d1ddd1ffe1d5f96b1868 | SRP_040070_MRC_5_High_MOI_MERS_n_a_48_h_cohort_9__Nctrl_6__Ncases_4.csv |\n",
       "| 5598074469b3b712ff90ba4dc1f97aae08592fd07620015b8359a626e9402c34 | SRP_040070_MRC_5_High_MOI_SARS_n_a_24_h_cohort_3__Nctrl_6__Ncases_9.csv |\n",
       "| 705212fb2c25d028a6dc19dfe5092152d2e3a7f590bf63964e403f00931da467 | SRP_040070_MRC_5_High_MOI_SARS_n_a_48_h_cohort_5__Nctrl_6__Ncases_4.csv |\n",
       "| 3fa4417422ec578701f52b0afe2657bde06d83c712300e4d359a0d29ce9fe13e | SRP_040070_MRC_5_MERS_Gleevec_24_h_cohort_14__Nctrl_6__Ncases_8.csv     |\n",
       "| fb37f1aa2ba7d91ed1457a8b9cad39d3682e207fc95d48fe9456c94462534b08 | SRP_040070_MRC_5_MERS_Gleevec_48_h_cohort_15__Nctrl_5__Ncases_8.csv     |\n",
       "| 38745691c0d20938ab602b0f4c8c9574bcf94a2166f0c0bbf9eee47e6237960d | SRP_040070_MRC_5_MERS_IF_Nbeta_24_h_cohort_16__Nctrl_6__Ncases_8.csv    |\n",
       "| 341c169aa4d4ce37566db127db3a7159b7e88a17f73587b27034041e2c0de99a | SRP_040070_MRC_5_MERS_IF_Nbeta_48_h_cohort_17__Nctrl_5__Ncases_8.csv    |\n",
       "| 87fddb4ecd9edc43712fd8d47cb0a7b8d6db1487331fa3da483584824abe9782 | SRP_040070_MRC_5_SARS_Gleevec_24_h_cohort_12__Nctrl_9__Ncases_4.csv     |\n",
       "| e025e19d867fa5803521ca89a8110995eb5fe8aa4162c5a2269b2495dfeec507 | SRP_040070_MRC_5_SARS_Gleevec_48_h_cohort_13__Nctrl_5__Ncases_4.csv     |\n",
       "| 1b6113cb78b1067df84de36a246b0c541f54e7281111e483106db21cab42c8ff | SRP_040070_MRC_5_SARS_IF_Nbeta_24_h_cohort_10__Nctrl_9__Ncases_4.csv    |\n",
       "| db4f4eeec456a6ed59eab0890c9bf4f18d80ba8383a72b9d5eaab8434bdc09b6 | SRP_040070_MRC_5_SARS_IF_Nbeta_48_h_cohort_11__Nctrl_5__Ncases_4.csv    |\n",
       "| 825875f20ca1e7038f385847be48379fe6b8351b92d0f1d6a7dc9b0641fdab1e | SRP_040070_MRC_5_low_MOI_MERS_n_a_24_h_cohort_6__Nctrl_6__Ncases_6.csv  |\n",
       "| 4e2062adeb63292aa963ee7e02b930f1e677858cb15c930632feb84f28a8ea31 | SRP_040070_MRC_5_low_MOI_MERS_n_a_48_h_cohort_8__Nctrl_6__Ncases_5.csv  |\n",
       "| 72a421c96c1a91049137e027a572c4d2e902fd07c02c31be3efa12e49e13da87 | SRP_040070_MRC_5_low_MOI_SARS_n_a_24_h_cohort_2__Nctrl_6__Ncases_9.csv  |\n",
       "| 02889ff4aaf7818849073e67a1399527dd96f9f5e55f0bb419ce592f2f16b3dc | SRP_040070_MRC_5_low_MOI_SARS_n_a_48_h_cohort_4__Nctrl_6__Ncases_5.csv  |\n",
       "| afe66a618e3f9f388fbcc3c55d96ac2c3caa4c6f0e36ecc7385a0fd693a7abf7 | SRP_076102_flu_A_2_h_cohort_18__Nctrl_2__Ncases_2.csv                   |\n",
       "| 9cbecde3f70f89ff1fcb4876c5cbb10bcd0b465d2d2f3468415eb856da1329aa | SRP_076102_flu_A_4_h_cohort_19__Nctrl_2__Ncases_2.csv                   |\n",
       "| a66d40c296fa881ce9f40e6a60b285561c45e7888f997d2d5f4cea19032f022f | SRP_076102_flu_A_8_h_cohort_20__Nctrl_2__Ncases_2.csv                   |\n",
       "| f1a076f6cb8da285c89f0e0813ba1a563cef8237e6f6a336d10ebd597c423ab1 | SRP_091886_H_1_N_1_03_h_cohort_21__Nctrl_6__Ncases_2.csv                |\n",
       "| c2bed0da62d321162ebc554d86f62801c11aee46bbd6588b2eab1c3b41253ba8 | SRP_091886_H_1_N_1_06_h_cohort_22__Nctrl_6__Ncases_2.csv                |\n",
       "| dd65570023c4cd4309f43296af7408bfb146ac6c1388f818dbcc4bf3e2e56c19 | SRP_091886_H_1_N_1_12_h_cohort_23__Nctrl_6__Ncases_2.csv                |\n",
       "| e2c561d1f672ff645dcd9ee054a84dddd3ce49e0662fb3b407c3dff4341f289d | SRP_091886_H_1_N_1_18_h_cohort_24__Nctrl_6__Ncases_2.csv                |\n",
       "| 4295800eb0e525c55322a738e7fd8806ebcd7347fd6ed099d681b92d5fa76554 | SRP_091886_H_3_N_2_03_h_cohort_25__Nctrl_6__Ncases_2.csv                |\n",
       "| a58cf689bc9e541a35634b811542deea35f99c58b065db5ceb85c9f9bcdd7de2 | SRP_091886_H_3_N_2_06_h_cohort_26__Nctrl_6__Ncases_2.csv                |\n",
       "| 059db7c17111cec8b4377421737edf1d23b95aeca12ef2cf2dc63bf71d2ea683 | SRP_091886_H_3_N_2_12_h_cohort_27__Nctrl_6__Ncases_2.csv                |\n",
       "| fdae617160fe2e1ae43477071ab16e0c799835031df156bfc2f6e835c7b36ee0 | SRP_091886_H_3_N_2_18_h_cohort_28__Nctrl_6__Ncases_2.csv                |\n",
       "| 2ad237ae37f123c57e7006a28cf0d13aa84aeb35d621e17b2edb997f7ce6473e | SRP_091886_H_5_N_1_03_h_cohort_29__Nctrl_6__Ncases_2.csv                |\n",
       "| cf1fb36e3426467c87d794069aa5803cd7ecc209985482a4194f5d3987b790ee | SRP_091886_H_5_N_1_06_h_cohort_30__Nctrl_6__Ncases_2.csv                |\n",
       "| 9ac7d2def6a5a183daac0fd41a72c49e413b645a3644e152c251f516afa4842c | SRP_091886_H_5_N_1_12_h_cohort_31__Nctrl_6__Ncases_2.csv                |\n",
       "| a314fcf71a7c4680d06108d16368804eafc00b57a1be6f659344b53c8b4d500d | SRP_091886_H_5_N_1_18_h_cohort_32__Nctrl_6__Ncases_2.csv                |\n",
       "| f0936da0c471ec75fe90cfd9d5d11e47524a2992baf95d07160fc158bd8f56c1 | SRP_118721_inf_A_lariciresinol_high_cohort_35__Nctrl_1__Ncases_2.csv    |\n",
       "| 639521dad7753830982125e5f35d3bbd8456a01874f968108178994344e09dea | SRP_118721_inf_A_lariciresinol_low_cohort_34__Nctrl_1__Ncases_2.csv     |\n",
       "| b3f87fbba304ec17a7236602595125a15077429568a512d3984a17ae2ad33618 | SRP_118721_inf_A_no_treatment_cohort_33__Nctrl_1__Ncases_1.csv          |\n",
       "| 23873fb5f6fb6f60d9732e8f49ba583ae1bbf47dbbb17467d16ce2ef896bc353 | SRP_170549_AM_580_cohort_37__Nctrl_3__Ncases_3.csv                      |\n",
       "| 15b605fef5acb748b0a981009864eb452e06cb328adedfefcdf11e53e9f0f99a | SRP_170549_MERS_cohort_36__Nctrl_3__Ncases_3.csv                        |\n",
       "| 6f307d45d9b2cb7aeaa612fe293e99a02b3a5f204fee74e99d4e13c4ff6eb700 | SRP_227272_MERS_cohort_38__Nctrl_6__Ncases_6.csv                        |\n",
       "| d6ff06711f913d40a58ee7136c6e69c6fe3bb56d0d243da55ba364b88b8944b1 | SRP_230823_H_5_N_1_infected_cohort_1__Nctrl_6__Ncases_4.csv             |\n",
       "| 1f891faa962de230fddc6af4de9942a5dded6da860194453411ed234d8d3a1c7 | SRP_253951_A_549_IAV_0_h_cohort_43__Nctrl_28__Ncases_8.csv              |\n",
       "| 5e897d53e70b48de0bb9600f4a9dfa480d196cb9822ff73b24fc6b9958a5f52a | SRP_253951_A_549_RSV_0_h_cohort_41__Nctrl_28__Ncases_8.csv              |\n",
       "| 63cec04c0d2f760d5f5eab53e1e10f3e3970892df7eb58ce6c39f48c89527be7 | SRP_253951_A_549_RSV_24_h_cohort_42__Nctrl_6__Ncases_3.csv              |\n",
       "| 7a5113f4cf96a622e0b143976e59a15ac3ff88a55041b3df4a8a825300244b20 | SRP_253951_A_549_covid_0_h_cohort_44__Nctrl_28__Ncases_12.csv           |\n",
       "| 6e5ab6aa71bab17e32f7a6a04228680897e63d1036756a3ed58ad731a4172e25 | SRP_253951_A_549_covid_24_h_cohort_45__Nctrl_6__Ncases_3.csv            |\n",
       "| 300c738a559e1b7327e1596c897c051b9f6ff678e5ceec37b9bae6d725c9d925 | SRP_253951_A_549_covid_ACE_2_24_h_cohort_49__Nctrl_3__Ncases_3.csv      |\n",
       "| 78cbb78ff97ded1b4099ade23f8ed6e542324ade98cd591c316da95ab76b9d00 | SRP_253951_NHBE_covid_0_h_cohort_48__Nctrl_12__Ncases_12.csv            |\n",
       "| f667c1af7468baaeb4638e6cde31a8f7882427a2ba67ec728a1f4fec78a032b8 | SRP_253951_calu_3_covid_24_h_cohort_46__Nctrl_3__Ncases_3.csv           |\n",
       "| 656f4566ae0614a67de1b83967fe35f3100c062699a27e3a43099b5f8f36f6cd | SRP_253951_covid_lung_biopsy_cohort_47__Nctrl_8__Ncases_8.csv           |\n",
       "| 62729f0fc58c0d6f10fdeebcb8aad8b31666512c118531db91c538c99e9d476e | SRP_254688_covid_sputum_cohort_39__Nctrl_4__Ncases_1.csv                |\n",
       "| 920442b7005afac0bfb8aca22b985e1e8474fa7e5b6be4a315c1f324dfdc9bcf | SRP_254688_covid_sputum_cohort_40__Nctrl_5__Ncases_1.csv                |\n",
       "| 7e0f06ed1e83570ed2dd0a9885f6831a34f4a631fe0bc06d46c5cbf098484ab3 | accession_N351.list                                                     |\n",
       "| 300c738a559e1b7327e1596c897c051b9f6ff678e5ceec37b9bae6d725c9d925 | all_unique_controls_vs_all_cases__Nctrl_143__Ncases_208.csv             |\n",
       "| 26fcdfb2c71143f776c5a9700e353d892b638fa7c95db62a542db7870814c9ce | sha256sums.txt                                                          |\n",
       "| 5b5ba97435540f91e201329fb5f88f80ace6f74ed47d2b1bd0aadb1d60e03529 | sra_masterfile_n351.csv                                                 |\n",
       "\n"
      ],
      "text/plain": [
       "   sha256sum                                                       \n",
       "1  ea1600b9fb33e2e5c582a389df987ed802b9a2290c3491f5db1a3cc906de04a1\n",
       "2  eb58677eff523b64fd1941125f20be0037ecb78cd812d1ddd1ffe1d5f96b1868\n",
       "3  5598074469b3b712ff90ba4dc1f97aae08592fd07620015b8359a626e9402c34\n",
       "4  705212fb2c25d028a6dc19dfe5092152d2e3a7f590bf63964e403f00931da467\n",
       "5  3fa4417422ec578701f52b0afe2657bde06d83c712300e4d359a0d29ce9fe13e\n",
       "6  fb37f1aa2ba7d91ed1457a8b9cad39d3682e207fc95d48fe9456c94462534b08\n",
       "7  38745691c0d20938ab602b0f4c8c9574bcf94a2166f0c0bbf9eee47e6237960d\n",
       "8  341c169aa4d4ce37566db127db3a7159b7e88a17f73587b27034041e2c0de99a\n",
       "9  87fddb4ecd9edc43712fd8d47cb0a7b8d6db1487331fa3da483584824abe9782\n",
       "10 e025e19d867fa5803521ca89a8110995eb5fe8aa4162c5a2269b2495dfeec507\n",
       "11 1b6113cb78b1067df84de36a246b0c541f54e7281111e483106db21cab42c8ff\n",
       "12 db4f4eeec456a6ed59eab0890c9bf4f18d80ba8383a72b9d5eaab8434bdc09b6\n",
       "13 825875f20ca1e7038f385847be48379fe6b8351b92d0f1d6a7dc9b0641fdab1e\n",
       "14 4e2062adeb63292aa963ee7e02b930f1e677858cb15c930632feb84f28a8ea31\n",
       "15 72a421c96c1a91049137e027a572c4d2e902fd07c02c31be3efa12e49e13da87\n",
       "16 02889ff4aaf7818849073e67a1399527dd96f9f5e55f0bb419ce592f2f16b3dc\n",
       "17 afe66a618e3f9f388fbcc3c55d96ac2c3caa4c6f0e36ecc7385a0fd693a7abf7\n",
       "18 9cbecde3f70f89ff1fcb4876c5cbb10bcd0b465d2d2f3468415eb856da1329aa\n",
       "19 a66d40c296fa881ce9f40e6a60b285561c45e7888f997d2d5f4cea19032f022f\n",
       "20 f1a076f6cb8da285c89f0e0813ba1a563cef8237e6f6a336d10ebd597c423ab1\n",
       "21 c2bed0da62d321162ebc554d86f62801c11aee46bbd6588b2eab1c3b41253ba8\n",
       "22 dd65570023c4cd4309f43296af7408bfb146ac6c1388f818dbcc4bf3e2e56c19\n",
       "23 e2c561d1f672ff645dcd9ee054a84dddd3ce49e0662fb3b407c3dff4341f289d\n",
       "24 4295800eb0e525c55322a738e7fd8806ebcd7347fd6ed099d681b92d5fa76554\n",
       "25 a58cf689bc9e541a35634b811542deea35f99c58b065db5ceb85c9f9bcdd7de2\n",
       "26 059db7c17111cec8b4377421737edf1d23b95aeca12ef2cf2dc63bf71d2ea683\n",
       "27 fdae617160fe2e1ae43477071ab16e0c799835031df156bfc2f6e835c7b36ee0\n",
       "28 2ad237ae37f123c57e7006a28cf0d13aa84aeb35d621e17b2edb997f7ce6473e\n",
       "29 cf1fb36e3426467c87d794069aa5803cd7ecc209985482a4194f5d3987b790ee\n",
       "30 9ac7d2def6a5a183daac0fd41a72c49e413b645a3644e152c251f516afa4842c\n",
       "31 a314fcf71a7c4680d06108d16368804eafc00b57a1be6f659344b53c8b4d500d\n",
       "32 f0936da0c471ec75fe90cfd9d5d11e47524a2992baf95d07160fc158bd8f56c1\n",
       "33 639521dad7753830982125e5f35d3bbd8456a01874f968108178994344e09dea\n",
       "34 b3f87fbba304ec17a7236602595125a15077429568a512d3984a17ae2ad33618\n",
       "35 23873fb5f6fb6f60d9732e8f49ba583ae1bbf47dbbb17467d16ce2ef896bc353\n",
       "36 15b605fef5acb748b0a981009864eb452e06cb328adedfefcdf11e53e9f0f99a\n",
       "37 6f307d45d9b2cb7aeaa612fe293e99a02b3a5f204fee74e99d4e13c4ff6eb700\n",
       "38 d6ff06711f913d40a58ee7136c6e69c6fe3bb56d0d243da55ba364b88b8944b1\n",
       "39 1f891faa962de230fddc6af4de9942a5dded6da860194453411ed234d8d3a1c7\n",
       "40 5e897d53e70b48de0bb9600f4a9dfa480d196cb9822ff73b24fc6b9958a5f52a\n",
       "41 63cec04c0d2f760d5f5eab53e1e10f3e3970892df7eb58ce6c39f48c89527be7\n",
       "42 7a5113f4cf96a622e0b143976e59a15ac3ff88a55041b3df4a8a825300244b20\n",
       "43 6e5ab6aa71bab17e32f7a6a04228680897e63d1036756a3ed58ad731a4172e25\n",
       "44 300c738a559e1b7327e1596c897c051b9f6ff678e5ceec37b9bae6d725c9d925\n",
       "45 78cbb78ff97ded1b4099ade23f8ed6e542324ade98cd591c316da95ab76b9d00\n",
       "46 f667c1af7468baaeb4638e6cde31a8f7882427a2ba67ec728a1f4fec78a032b8\n",
       "47 656f4566ae0614a67de1b83967fe35f3100c062699a27e3a43099b5f8f36f6cd\n",
       "48 62729f0fc58c0d6f10fdeebcb8aad8b31666512c118531db91c538c99e9d476e\n",
       "49 920442b7005afac0bfb8aca22b985e1e8474fa7e5b6be4a315c1f324dfdc9bcf\n",
       "50 7e0f06ed1e83570ed2dd0a9885f6831a34f4a631fe0bc06d46c5cbf098484ab3\n",
       "51 300c738a559e1b7327e1596c897c051b9f6ff678e5ceec37b9bae6d725c9d925\n",
       "52 26fcdfb2c71143f776c5a9700e353d892b638fa7c95db62a542db7870814c9ce\n",
       "53 5b5ba97435540f91e201329fb5f88f80ace6f74ed47d2b1bd0aadb1d60e03529\n",
       "   file                                                                   \n",
       "1  SRP_040070_MRC_5_High_MOI_MERS_n_a_24_h_cohort_7__Nctrl_6__Ncases_6.csv\n",
       "2  SRP_040070_MRC_5_High_MOI_MERS_n_a_48_h_cohort_9__Nctrl_6__Ncases_4.csv\n",
       "3  SRP_040070_MRC_5_High_MOI_SARS_n_a_24_h_cohort_3__Nctrl_6__Ncases_9.csv\n",
       "4  SRP_040070_MRC_5_High_MOI_SARS_n_a_48_h_cohort_5__Nctrl_6__Ncases_4.csv\n",
       "5  SRP_040070_MRC_5_MERS_Gleevec_24_h_cohort_14__Nctrl_6__Ncases_8.csv    \n",
       "6  SRP_040070_MRC_5_MERS_Gleevec_48_h_cohort_15__Nctrl_5__Ncases_8.csv    \n",
       "7  SRP_040070_MRC_5_MERS_IF_Nbeta_24_h_cohort_16__Nctrl_6__Ncases_8.csv   \n",
       "8  SRP_040070_MRC_5_MERS_IF_Nbeta_48_h_cohort_17__Nctrl_5__Ncases_8.csv   \n",
       "9  SRP_040070_MRC_5_SARS_Gleevec_24_h_cohort_12__Nctrl_9__Ncases_4.csv    \n",
       "10 SRP_040070_MRC_5_SARS_Gleevec_48_h_cohort_13__Nctrl_5__Ncases_4.csv    \n",
       "11 SRP_040070_MRC_5_SARS_IF_Nbeta_24_h_cohort_10__Nctrl_9__Ncases_4.csv   \n",
       "12 SRP_040070_MRC_5_SARS_IF_Nbeta_48_h_cohort_11__Nctrl_5__Ncases_4.csv   \n",
       "13 SRP_040070_MRC_5_low_MOI_MERS_n_a_24_h_cohort_6__Nctrl_6__Ncases_6.csv \n",
       "14 SRP_040070_MRC_5_low_MOI_MERS_n_a_48_h_cohort_8__Nctrl_6__Ncases_5.csv \n",
       "15 SRP_040070_MRC_5_low_MOI_SARS_n_a_24_h_cohort_2__Nctrl_6__Ncases_9.csv \n",
       "16 SRP_040070_MRC_5_low_MOI_SARS_n_a_48_h_cohort_4__Nctrl_6__Ncases_5.csv \n",
       "17 SRP_076102_flu_A_2_h_cohort_18__Nctrl_2__Ncases_2.csv                  \n",
       "18 SRP_076102_flu_A_4_h_cohort_19__Nctrl_2__Ncases_2.csv                  \n",
       "19 SRP_076102_flu_A_8_h_cohort_20__Nctrl_2__Ncases_2.csv                  \n",
       "20 SRP_091886_H_1_N_1_03_h_cohort_21__Nctrl_6__Ncases_2.csv               \n",
       "21 SRP_091886_H_1_N_1_06_h_cohort_22__Nctrl_6__Ncases_2.csv               \n",
       "22 SRP_091886_H_1_N_1_12_h_cohort_23__Nctrl_6__Ncases_2.csv               \n",
       "23 SRP_091886_H_1_N_1_18_h_cohort_24__Nctrl_6__Ncases_2.csv               \n",
       "24 SRP_091886_H_3_N_2_03_h_cohort_25__Nctrl_6__Ncases_2.csv               \n",
       "25 SRP_091886_H_3_N_2_06_h_cohort_26__Nctrl_6__Ncases_2.csv               \n",
       "26 SRP_091886_H_3_N_2_12_h_cohort_27__Nctrl_6__Ncases_2.csv               \n",
       "27 SRP_091886_H_3_N_2_18_h_cohort_28__Nctrl_6__Ncases_2.csv               \n",
       "28 SRP_091886_H_5_N_1_03_h_cohort_29__Nctrl_6__Ncases_2.csv               \n",
       "29 SRP_091886_H_5_N_1_06_h_cohort_30__Nctrl_6__Ncases_2.csv               \n",
       "30 SRP_091886_H_5_N_1_12_h_cohort_31__Nctrl_6__Ncases_2.csv               \n",
       "31 SRP_091886_H_5_N_1_18_h_cohort_32__Nctrl_6__Ncases_2.csv               \n",
       "32 SRP_118721_inf_A_lariciresinol_high_cohort_35__Nctrl_1__Ncases_2.csv   \n",
       "33 SRP_118721_inf_A_lariciresinol_low_cohort_34__Nctrl_1__Ncases_2.csv    \n",
       "34 SRP_118721_inf_A_no_treatment_cohort_33__Nctrl_1__Ncases_1.csv         \n",
       "35 SRP_170549_AM_580_cohort_37__Nctrl_3__Ncases_3.csv                     \n",
       "36 SRP_170549_MERS_cohort_36__Nctrl_3__Ncases_3.csv                       \n",
       "37 SRP_227272_MERS_cohort_38__Nctrl_6__Ncases_6.csv                       \n",
       "38 SRP_230823_H_5_N_1_infected_cohort_1__Nctrl_6__Ncases_4.csv            \n",
       "39 SRP_253951_A_549_IAV_0_h_cohort_43__Nctrl_28__Ncases_8.csv             \n",
       "40 SRP_253951_A_549_RSV_0_h_cohort_41__Nctrl_28__Ncases_8.csv             \n",
       "41 SRP_253951_A_549_RSV_24_h_cohort_42__Nctrl_6__Ncases_3.csv             \n",
       "42 SRP_253951_A_549_covid_0_h_cohort_44__Nctrl_28__Ncases_12.csv          \n",
       "43 SRP_253951_A_549_covid_24_h_cohort_45__Nctrl_6__Ncases_3.csv           \n",
       "44 SRP_253951_A_549_covid_ACE_2_24_h_cohort_49__Nctrl_3__Ncases_3.csv     \n",
       "45 SRP_253951_NHBE_covid_0_h_cohort_48__Nctrl_12__Ncases_12.csv           \n",
       "46 SRP_253951_calu_3_covid_24_h_cohort_46__Nctrl_3__Ncases_3.csv          \n",
       "47 SRP_253951_covid_lung_biopsy_cohort_47__Nctrl_8__Ncases_8.csv          \n",
       "48 SRP_254688_covid_sputum_cohort_39__Nctrl_4__Ncases_1.csv               \n",
       "49 SRP_254688_covid_sputum_cohort_40__Nctrl_5__Ncases_1.csv               \n",
       "50 accession_N351.list                                                    \n",
       "51 all_unique_controls_vs_all_cases__Nctrl_143__Ncases_208.csv            \n",
       "52 sha256sums.txt                                                         \n",
       "53 sra_masterfile_n351.csv                                                "
      ]
     },
     "metadata": {},
     "output_type": "display_data"
    }
   ],
   "source": [
    "message(\"Generating sha256 checksums of the files in the `..data/` directory .. \")\n",
    "system(\"cd ../data/ && sha256sum * > sha256sums.txt\", intern = TRUE)\n",
    "message(\"Done!\\n\")\n",
    "\n",
    "data.table::fread(\"../data/sha256sums.txt\", header = FALSE, col.names = c(\"sha256sum\", \"file\"))"
   ]
  },
  {
   "cell_type": "markdown",
   "metadata": {},
   "source": [
    "# Libraries metadata"
   ]
  },
  {
   "cell_type": "code",
   "execution_count": 90,
   "metadata": {},
   "outputs": [
    {
     "data": {
      "text/plain": [
       "R version 3.6.3 (2020-02-29)\n",
       "Platform: x86_64-conda_cos6-linux-gnu (64-bit)\n",
       "Running under: Ubuntu 18.04.4 LTS\n",
       "\n",
       "Matrix products: default\n",
       "BLAS/LAPACK: /opt/conda/lib/libopenblasp-r0.3.7.so\n",
       "\n",
       "locale:\n",
       " [1] LC_CTYPE=en_US.UTF-8       LC_NUMERIC=C              \n",
       " [3] LC_TIME=en_US.UTF-8        LC_COLLATE=en_US.UTF-8    \n",
       " [5] LC_MONETARY=en_US.UTF-8    LC_MESSAGES=en_US.UTF-8   \n",
       " [7] LC_PAPER=en_US.UTF-8       LC_NAME=C                 \n",
       " [9] LC_ADDRESS=C               LC_TELEPHONE=C            \n",
       "[11] LC_MEASUREMENT=en_US.UTF-8 LC_IDENTIFICATION=C       \n",
       "\n",
       "attached base packages:\n",
       "[1] stats     graphics  grDevices utils     datasets  methods   base     \n",
       "\n",
       "other attached packages:\n",
       "[1] dplyr_0.8.5      snakecase_0.11.0 rlist_0.4.6.1   \n",
       "\n",
       "loaded via a namespace (and not attached):\n",
       " [1] Rcpp_1.0.4.6      magrittr_1.5      tidyselect_1.0.0  uuid_0.1-4       \n",
       " [5] R6_2.4.1          rlang_0.4.5       fansi_0.4.1       stringr_1.4.0    \n",
       " [9] tools_3.6.3       data.table_1.12.8 cli_2.0.2         ellipsis_0.3.0   \n",
       "[13] htmltools_0.4.0   digest_0.6.25     assertthat_0.2.1  lifecycle_0.2.0  \n",
       "[17] tibble_3.0.0      crayon_1.3.4      IRdisplay_0.7.0   purrr_0.3.4      \n",
       "[21] repr_1.1.0        base64enc_0.1-3   vctrs_0.2.4       IRkernel_1.1     \n",
       "[25] curl_4.3          glue_1.4.0        evaluate_0.14     pbdZMQ_0.3-3     \n",
       "[29] stringi_1.4.6     compiler_3.6.3    pillar_1.4.3      jsonlite_1.6.1   \n",
       "[33] pkgconfig_2.0.3  "
      ]
     },
     "metadata": {},
     "output_type": "display_data"
    }
   ],
   "source": [
    " utils::sessionInfo()"
   ]
  }
 ],
 "metadata": {
  "jupytext": {
   "cell_metadata_filter": "-all",
   "executable": "/usr/bin/env Rscript",
   "main_language": "R",
   "notebook_metadata_filter": "-all"
  },
  "kernelspec": {
   "display_name": "R",
   "language": "R",
   "name": "ir"
  },
  "language_info": {
   "codemirror_mode": "r",
   "file_extension": ".r",
   "mimetype": "text/x-r-source",
   "name": "R",
   "pygments_lexer": "r",
   "version": "3.6.3"
  }
 },
 "nbformat": 4,
 "nbformat_minor": 4
}
